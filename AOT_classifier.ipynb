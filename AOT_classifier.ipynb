{
  "nbformat": 4,
  "nbformat_minor": 0,
  "metadata": {
    "colab": {
      "provenance": [],
      "gpuType": "A100",
      "authorship_tag": "ABX9TyOfNR4C4kdSgJ8EMhqLj32E",
      "include_colab_link": true
    },
    "kernelspec": {
      "name": "python3",
      "display_name": "Python 3"
    },
    "language_info": {
      "name": "python"
    },
    "accelerator": "GPU"
  },
  "cells": [
    {
      "cell_type": "markdown",
      "metadata": {
        "id": "view-in-github",
        "colab_type": "text"
      },
      "source": [
        "<a href=\"https://colab.research.google.com/github/nenaplnk/AOT_classifier/blob/main/AOT_classifier.ipynb\" target=\"_parent\"><img src=\"https://colab.research.google.com/assets/colab-badge.svg\" alt=\"Open In Colab\"/></a>"
      ]
    },
    {
      "cell_type": "code",
      "execution_count": 1,
      "metadata": {
        "colab": {
          "base_uri": "https://localhost:8080/"
        },
        "id": "bz3SBPhKOuo8",
        "outputId": "08a45a61-084f-422c-eb53-acff966c4260"
      },
      "outputs": [
        {
          "output_type": "stream",
          "name": "stdout",
          "text": [
            "Reading package lists... Done\n",
            "Building dependency tree... Done\n",
            "Reading state information... Done\n",
            "unrar is already the newest version (1:6.1.5-1ubuntu0.1).\n",
            "0 upgraded, 0 newly installed, 0 to remove and 38 not upgraded.\n",
            "\n",
            "UNRAR 6.11 beta 1 freeware      Copyright (c) 1993-2022 Alexander Roshal\n",
            "\n",
            "\n",
            "Extracting from imgs_titans.rar\n",
            "\n",
            "Creating    /content/extracted                                        OK\n",
            "Creating    /content/extracted/imgs_titans                            OK\n",
            "Creating    /content/extracted/imgs_titans/test                       OK\n",
            "Extracting  /content/extracted/imgs_titans/test/format.json              \b\b\b\b  0%\b\b\b\b\b  OK \n",
            "Creating    /content/extracted/imgs_titans/test/armin                 OK\n",
            "Extracting  /content/extracted/imgs_titans/test/armin/images (1).jpg     \b\b\b\b  0%\b\b\b\b\b  OK \n",
            "Extracting  /content/extracted/imgs_titans/test/armin/fad5f2a138ae524c458bd8372334e5b3.jpg     \b\b\b\b  0%\b\b\b\b\b  OK \n",
            "Extracting  /content/extracted/imgs_titans/test/armin/6e590e2718608f0afd693b6df632ff02.jpg     \b\b\b\b  0%\b\b\b\b\b  OK \n",
            "Extracting  /content/extracted/imgs_titans/test/armin/images.jpg         \b\b\b\b  0%\b\b\b\b\b  OK \n",
            "Extracting  /content/extracted/imgs_titans/test/armin/images (2).jpg     \b\b\b\b  0%\b\b\b\b\b  OK \n",
            "Creating    /content/extracted/imgs_titans/test/galyart               OK\n",
            "Extracting  /content/extracted/imgs_titans/test/galyart/images (1).jpg     \b\b\b\b  0%\b\b\b\b\b  OK \n",
            "Extracting  /content/extracted/imgs_titans/test/galyart/images (3).jpg     \b\b\b\b  0%\b\b\b\b\b  OK \n",
            "Extracting  /content/extracted/imgs_titans/test/galyart/images.jpg       \b\b\b\b  0%\b\b\b\b\b  OK \n",
            "Extracting  /content/extracted/imgs_titans/test/galyart/images (2).jpg     \b\b\b\b  0%\b\b\b\b\b  OK \n",
            "Extracting  /content/extracted/imgs_titans/test/galyart/75b17b6e51b2ccb8769bd9c0cffcad5747b0d779r1-2048-2048v2_hq.jpg     \b\b\b\b  1%\b\b\b\b\b  OK \n",
            "Creating    /content/extracted/imgs_titans/test/eren                  OK\n",
            "Extracting  /content/extracted/imgs_titans/test/eren/98b016368a2e11eea587261105627a54_upscaled.jpg     \b\b\b\b  1%\b\b\b\b\b  OK \n",
            "Extracting  /content/extracted/imgs_titans/test/eren/images (3).jpg      \b\b\b\b  1%\b\b\b\b\b  OK \n",
            "Extracting  /content/extracted/imgs_titans/test/eren/a2a6364e5d53ca7d4137e6127ae8a57c.jpg     \b\b\b\b  1%\b\b\b\b\b  OK \n",
            "Extracting  /content/extracted/imgs_titans/test/eren/images.jpg          \b\b\b\b  1%\b\b\b\b\b  OK \n",
            "Extracting  /content/extracted/imgs_titans/test/eren/dc0ed5368ab7aada60e7234452432ff4.jpg     \b\b\b\b  2%\b\b\b\b\b  OK \n",
            "Creating    /content/extracted/imgs_titans/test/anny                  OK\n",
            "Extracting  /content/extracted/imgs_titans/test/anny/KCOEBwZyiTQ.jpg     \b\b\b\b  2%\b\b\b\b\b  OK \n",
            "Extracting  /content/extracted/imgs_titans/test/anny/images.jpg          \b\b\b\b  2%\b\b\b\b\b  OK \n",
            "Extracting  /content/extracted/imgs_titans/test/anny/ju-mW2C3rlaUQflNaDsj1rT898dHKhGZvT6Oup0IBYKZE3YzWLVbcGiTqDbzPlu3NdALJVnA3Ca-yl_-feRVkho_.jpg     \b\b\b\b  3%\b\b\b\b\b  OK \n",
            "Extracting  /content/extracted/imgs_titans/test/anny/bedd6aadfeab16fdf31061351e8042874c78be9c_hq.jpg     \b\b\b\b  3%\b\b\b\b\b  OK \n",
            "Extracting  /content/extracted/imgs_titans/test/anny/1379436527_1985791356.jpg     \b\b\b\b  3%\b\b\b\b\b  OK \n",
            "Creating    /content/extracted/imgs_titans/test/peak                  OK\n",
            "Extracting  /content/extracted/imgs_titans/test/peak/images (1).jpg      \b\b\b\b  4%\b\b\b\b\b  OK \n",
            "Extracting  /content/extracted/imgs_titans/test/peak/a1b24d3a2a3b268514f96da3f9fba9f3.jpg     \b\b\b\b  4%\b\b\b\b\b  OK \n",
            "Extracting  /content/extracted/imgs_titans/test/peak/images (4).jpg      \b\b\b\b  4%\b\b\b\b\b  OK \n",
            "Extracting  /content/extracted/imgs_titans/test/peak/images.jpg          \b\b\b\b  4%\b\b\b\b\b  OK \n",
            "Extracting  /content/extracted/imgs_titans/test/peak/images (2).jpg      \b\b\b\b  4%\b\b\b\b\b  OK \n",
            "Creating    /content/extracted/imgs_titans/test/mikasa                OK\n",
            "Extracting  /content/extracted/imgs_titans/test/mikasa/images (1).jpg     \b\b\b\b  4%\b\b\b\b\b  OK \n",
            "Extracting  /content/extracted/imgs_titans/test/mikasa/images (3).jpg     \b\b\b\b  4%\b\b\b\b\b  OK \n",
            "Extracting  /content/extracted/imgs_titans/test/mikasa/images.jpg        \b\b\b\b  4%\b\b\b\b\b  OK \n",
            "Extracting  /content/extracted/imgs_titans/test/mikasa/70cdcf5b22ae96a302f6239a10caed00.jpg     \b\b\b\b  5%\b\b\b\b\b  OK \n",
            "Extracting  /content/extracted/imgs_titans/test/mikasa/images (2).jpg     \b\b\b\b  5%\b\b\b\b\b  OK \n",
            "Creating    /content/extracted/imgs_titans/test/levi                  OK\n",
            "Extracting  /content/extracted/imgs_titans/test/levi/images (1).jpg      \b\b\b\b  5%\b\b\b\b\b  OK \n",
            "Extracting  /content/extracted/imgs_titans/test/levi/images (4).jpg      \b\b\b\b  5%\b\b\b\b\b  OK \n",
            "Extracting  /content/extracted/imgs_titans/test/levi/7bbcf295722797b526bcfad15d0d9749.jpg     \b\b\b\b  5%\b\b\b\b\b  OK \n",
            "Extracting  /content/extracted/imgs_titans/test/levi/c31a7b42e12fd29b9ffa0e96a030bf0c.jpg     \b\b\b\b  5%\b\b\b\b\b  OK \n",
            "Extracting  /content/extracted/imgs_titans/test/levi/images.jpg          \b\b\b\b  5%\b\b\b\b\b  OK \n",
            "Creating    /content/extracted/imgs_titans/train                      OK\n",
            "Extracting  /content/extracted/imgs_titans/train/format.json             \b\b\b\b  5%\b\b\b\b\b  OK \n",
            "Creating    /content/extracted/imgs_titans/train/armin                OK\n",
            "Extracting  /content/extracted/imgs_titans/train/armin/3b7fb6d9842f07f3e88b90a69716171c.jpg     \b\b\b\b  5%\b\b\b\b\b  OK \n",
            "Extracting  /content/extracted/imgs_titans/train/armin/b075558fca52ae40207036bbb78f0372.jpg     \b\b\b\b  6%\b\b\b\b\b  OK \n",
            "Extracting  /content/extracted/imgs_titans/train/armin/9109b0e9dd4dbde9eda635c2d2a63fbf.jpg     \b\b\b\b  6%\b\b\b\b\b  OK \n",
            "Extracting  /content/extracted/imgs_titans/train/armin/b14f9916656bffb699e32169f65d57b5.jpg     \b\b\b\b  6%\b\b\b\b\b  OK \n",
            "Extracting  /content/extracted/imgs_titans/train/armin/67081837ffb5d8b8635580ba3da306eb.jpg     \b\b\b\b  6%\b\b\b\b\b  OK \n",
            "Extracting  /content/extracted/imgs_titans/train/armin/18119b811e55612c9caa34b0a24383b4.jpg     \b\b\b\b  8%\b\b\b\b\b  OK \n",
            "Extracting  /content/extracted/imgs_titans/train/armin/a878c5c1c491268d434b020d475eaaa0.jpg     \b\b\b\b  8%\b\b\b\b\b  OK \n",
            "Extracting  /content/extracted/imgs_titans/train/armin/3289864c36cb012ada591ea582f50779.jpg     \b\b\b\b  9%\b\b\b\b\b  OK \n",
            "Extracting  /content/extracted/imgs_titans/train/armin/503f384b7ac43576121f7c617a93c5a5.jpg     \b\b\b\b  9%\b\b\b\b\b  OK \n",
            "Extracting  /content/extracted/imgs_titans/train/armin/386d6d0a36c0da646b935a49a6f6a950.jpg     \b\b\b\b  9%\b\b\b\b\b  OK \n",
            "Extracting  /content/extracted/imgs_titans/train/armin/1aabea45fcc3d733b370aba80d55a41d.jpg     \b\b\b\b 10%\b\b\b\b\b  OK \n",
            "Extracting  /content/extracted/imgs_titans/train/armin/b69f4fe67e4bab86d6eeae9ffafe9206.jpg     \b\b\b\b 10%\b\b\b\b\b  OK \n",
            "Extracting  /content/extracted/imgs_titans/train/armin/673b23410ce348fe37e9447185ab3c29.jpg     \b\b\b\b 11%\b\b\b\b\b  OK \n",
            "Extracting  /content/extracted/imgs_titans/train/armin/d20e73f25bf84849c69026c6c253ca38.jpg     \b\b\b\b 12%\b\b\b\b\b  OK \n",
            "Extracting  /content/extracted/imgs_titans/train/armin/6ee51a7429e3fb07f3a088c72bdd02ef.jpg     \b\b\b\b 13%\b\b\b\b\b  OK \n",
            "Extracting  /content/extracted/imgs_titans/train/armin/7eaf20a2be87636220c8e9fb23e30753.jpg     \b\b\b\b 14%\b\b\b\b\b  OK \n",
            "Extracting  /content/extracted/imgs_titans/train/armin/fad5f2a138ae524c458bd8372334e5b3.jpg     \b\b\b\b 14%\b\b\b\b\b  OK \n",
            "Extracting  /content/extracted/imgs_titans/train/armin/d8331c364d7ae0e7fa05651c047da5b4.jpg     \b\b\b\b 15%\b\b\b\b\b  OK \n",
            "Extracting  /content/extracted/imgs_titans/train/armin/fa252147ae0dc7033d52216aff688bba.jpg     \b\b\b\b 15%\b\b\b\b\b  OK \n",
            "Extracting  /content/extracted/imgs_titans/train/armin/314564ddea34a1b76260cdba2cb119e1.jpg     \b\b\b\b 16%\b\b\b\b\b  OK \n",
            "Extracting  /content/extracted/imgs_titans/train/armin/3c4080ab2ae609c58c9ee2295000552c.jpg     \b\b\b\b 16%\b\b\b\b\b  OK \n",
            "Extracting  /content/extracted/imgs_titans/train/armin/a22e6b8e6a4f2e7f829d4414d46eaa4c.jpg     \b\b\b\b 16%\b\b\b\b\b  OK \n",
            "Extracting  /content/extracted/imgs_titans/train/armin/6b20edb734e3f9bdc1cdabe373343456.jpg     \b\b\b\b 17%\b\b\b\b\b  OK \n",
            "Extracting  /content/extracted/imgs_titans/train/armin/1cc7dd3d96049c5dae57be3242083d49.jpg     \b\b\b\b 17%\b\b\b\b\b  OK \n",
            "Extracting  /content/extracted/imgs_titans/train/armin/65c3f6107f1a6b75b6a9a0d0b70f20a1.jpg     \b\b\b\b 18%\b\b\b\b\b  OK \n",
            "Extracting  /content/extracted/imgs_titans/train/armin/73ac474271e3196d6c3afd4db16de943.jpg     \b\b\b\b 18%\b\b\b\b\b  OK \n",
            "Extracting  /content/extracted/imgs_titans/train/armin/1172ede24b349c042141030f8e201a65.jpg     \b\b\b\b 19%\b\b\b\b\b  OK \n",
            "Creating    /content/extracted/imgs_titans/train/galyart              OK\n",
            "Extracting  /content/extracted/imgs_titans/train/galyart/c521c5f5f6930f439f7f7fe7e8428169.jpg     \b\b\b\b 19%\b\b\b\b\b  OK \n",
            "Extracting  /content/extracted/imgs_titans/train/galyart/032134546f6a5be7974f0a1e3cc82781.jpg     \b\b\b\b 19%\b\b\b\b\b  OK \n",
            "Extracting  /content/extracted/imgs_titans/train/galyart/03ec932ebf999b9ef9a862bc3e9e7900.jpg     \b\b\b\b 19%\b\b\b\b\b  OK \n",
            "Extracting  /content/extracted/imgs_titans/train/galyart/1198dc502d9a8febf446d245679c208e.jpg     \b\b\b\b 20%\b\b\b\b\b  OK \n",
            "Extracting  /content/extracted/imgs_titans/train/galyart/0f3cea71b27b20144214786141590679.jpg     \b\b\b\b 20%\b\b\b\b\b  OK \n",
            "Extracting  /content/extracted/imgs_titans/train/galyart/b7e2ef4f7a04891eeec689e5ebb0fdc9.jpg     \b\b\b\b 20%\b\b\b\b\b  OK \n",
            "Extracting  /content/extracted/imgs_titans/train/galyart/6a75a9958032a25f99aeb1599c9321b2.jpg     \b\b\b\b 20%\b\b\b\b\b  OK \n",
            "Extracting  /content/extracted/imgs_titans/train/galyart/7b27ff0a1c0fdce3b84cf806ad7930ff.jpg     \b\b\b\b 21%\b\b\b\b\b  OK \n",
            "Extracting  /content/extracted/imgs_titans/train/galyart/b6bfc70aa7d3ba4969fce234b325a319.jpg     \b\b\b\b 21%\b\b\b\b\b  OK \n",
            "Extracting  /content/extracted/imgs_titans/train/galyart/809bb29ccb19124be91c82ee5d90d6c8.jpg     \b\b\b\b 21%\b\b\b\b\b  OK \n",
            "Extracting  /content/extracted/imgs_titans/train/galyart/2bc935bb273832a8b63ec06d4b87901f.jpg     \b\b\b\b 21%\b\b\b\b\b  OK \n",
            "Extracting  /content/extracted/imgs_titans/train/galyart/b38fddbcd11443d9d8c1b6066908e79f.jpg     \b\b\b\b 22%\b\b\b\b\b  OK \n",
            "Extracting  /content/extracted/imgs_titans/train/galyart/f6e17311dffc7eaaa618ac4021f6902f.jpg     \b\b\b\b 22%\b\b\b\b\b  OK \n",
            "Extracting  /content/extracted/imgs_titans/train/galyart/daf953121acc230902ecae2522b26cb5 (1).jpg     \b\b\b\b 22%\b\b\b\b\b  OK \n",
            "Extracting  /content/extracted/imgs_titans/train/galyart/9e60c43607c2df85f002976eff5bfaeb.jpg     \b\b\b\b 23%\b\b\b\b\b  OK \n",
            "Extracting  /content/extracted/imgs_titans/train/galyart/ae0cb1adeba5ce1eb55917a3bb37843d.jpg     \b\b\b\b 23%\b\b\b\b\b  OK \n",
            "Extracting  /content/extracted/imgs_titans/train/galyart/1027f56a6dcc4fcc71be38c4ef0eadb2.jpg     \b\b\b\b 23%\b\b\b\b\b  OK \n",
            "Extracting  /content/extracted/imgs_titans/train/galyart/aa2ee0bf20c2068cd898861205d3efc4.jpg     \b\b\b\b 24%\b\b\b\b\b  OK \n",
            "Extracting  /content/extracted/imgs_titans/train/galyart/f37b7cbba85c46ccef6995edd22a5e44.jpg     \b\b\b\b 24%\b\b\b\b\b  OK \n",
            "Extracting  /content/extracted/imgs_titans/train/galyart/591000b6888601adbb7f81a7e0948203.jpg     \b\b\b\b 24%\b\b\b\b\b  OK \n",
            "Extracting  /content/extracted/imgs_titans/train/galyart/ffe9b47557e40100b7d8ad969a054a3b.jpg     \b\b\b\b 24%\b\b\b\b\b  OK \n",
            "Extracting  /content/extracted/imgs_titans/train/galyart/6dfcf62746d5232c9230970f5018140e.jpg     \b\b\b\b 25%\b\b\b\b\b  OK \n",
            "Extracting  /content/extracted/imgs_titans/train/galyart/7e656034393ba8d902a86d2aefb0aa40.jpg     \b\b\b\b 25%\b\b\b\b\b  OK \n",
            "Extracting  /content/extracted/imgs_titans/train/galyart/01bb57594319e21a7047504b7b655565.jpg     \b\b\b\b 25%\b\b\b\b\b  OK \n",
            "Extracting  /content/extracted/imgs_titans/train/galyart/062d0e447564b34c9c85908d961b8af1.jpg     \b\b\b\b 25%\b\b\b\b\b  OK \n",
            "Extracting  /content/extracted/imgs_titans/train/galyart/8ccc59d5160408ab961ced25e3e47db4.jpg     \b\b\b\b 26%\b\b\b\b\b  OK \n",
            "Extracting  /content/extracted/imgs_titans/train/galyart/daf953121acc230902ecae2522b26cb5.jpg     \b\b\b\b 26%\b\b\b\b\b  OK \n",
            "Extracting  /content/extracted/imgs_titans/train/galyart/0c3c3a98c4eaca734ef1ee756b5d3f39.jpg     \b\b\b\b 26%\b\b\b\b\b  OK \n",
            "Creating    /content/extracted/imgs_titans/train/eren                 OK\n",
            "Extracting  /content/extracted/imgs_titans/train/eren/eren1.jpg          \b\b\b\b 27%\b\b\b\b\b  OK \n",
            "Extracting  /content/extracted/imgs_titans/train/eren/images (1).jpg     \b\b\b\b 27%\b\b\b\b\b  OK \n",
            "Extracting  /content/extracted/imgs_titans/train/eren/e2fea6282b84938f899fa624a8ebe9db.jpg     \b\b\b\b 27%\b\b\b\b\b  OK \n",
            "Extracting  /content/extracted/imgs_titans/train/eren/images (3).jpg     \b\b\b\b 27%\b\b\b\b\b  OK \n",
            "Extracting  /content/extracted/imgs_titans/train/eren/1645993044_2-abrakadabra-fun-p-eren-yeger-skrinshoti-iz-anime-17.jpg     \b\b\b\b 29%\b\b\b\b\b  OK \n",
            "Extracting  /content/extracted/imgs_titans/train/eren/94e03f05df0b57236dfb821a72dd8e57.jpg     \b\b\b\b 29%\b\b\b\b\b  OK \n",
            "Extracting  /content/extracted/imgs_titans/train/eren/f8c04ccbed590c455ecfe938f2bbb1c9.jpg     \b\b\b\b 30%\b\b\b\b\b  OK \n",
            "Extracting  /content/extracted/imgs_titans/train/eren/eren3.jpg          \b\b\b\b 30%\b\b\b\b\b  OK \n",
            "Extracting  /content/extracted/imgs_titans/train/eren/14e4d5a4e820a3604f6679332035d080.jpg     \b\b\b\b 31%\b\b\b\b\b  OK \n",
            "Extracting  /content/extracted/imgs_titans/train/eren/0d1f2375401824fbe462c96477b7d15a.jpg     \b\b\b\b 31%\b\b\b\b\b  OK \n",
            "Extracting  /content/extracted/imgs_titans/train/eren/00f284ffcc693289880f89f686e4accc.jpg     \b\b\b\b 32%\b\b\b\b\b  OK \n",
            "Extracting  /content/extracted/imgs_titans/train/eren/eren5.jpg          \b\b\b\b 32%\b\b\b\b\b  OK \n",
            "Extracting  /content/extracted/imgs_titans/train/eren/16bc13fb4c04b8e7b06432be52be8051.jpg     \b\b\b\b 34%\b\b\b\b\b  OK \n",
            "Extracting  /content/extracted/imgs_titans/train/eren/3b235f38553ef2b5405861058a57b086.jpg     \b\b\b\b 34%\b\b\b\b\b  OK \n",
            "Extracting  /content/extracted/imgs_titans/train/eren/6f614fe1ad11576baf5bc4536d96e475.jpg     \b\b\b\b 34%\b\b\b\b\b  OK \n",
            "Extracting  /content/extracted/imgs_titans/train/eren/eren2.jpg          \b\b\b\b 35%\b\b\b\b\b  OK \n",
            "Extracting  /content/extracted/imgs_titans/train/eren/b49ce57977bf55d1ddc92d18a2739166219c6158_hq.jpg     \b\b\b\b 35%\b\b\b\b\b  OK \n",
            "Extracting  /content/extracted/imgs_titans/train/eren/1673142105_32-zefirka-club-p-eren-yeger-s-khvostikom-39.jpg     \b\b\b\b 35%\b\b\b\b\b  OK \n",
            "Extracting  /content/extracted/imgs_titans/train/eren/97704383a3597da6b7a858ff414e9e7f.jpg     \b\b\b\b 36%\b\b\b\b\b  OK \n",
            "Extracting  /content/extracted/imgs_titans/train/eren/3d6e87407e841c11539dd11a1ea36697.jpg     \b\b\b\b 36%\b\b\b\b\b  OK \n",
            "Extracting  /content/extracted/imgs_titans/train/eren/4f3434ba90ae24631e307b1e328877cc.jpg     \b\b\b\b 36%\b\b\b\b\b  OK \n",
            "Extracting  /content/extracted/imgs_titans/train/eren/4f3434ba90ae24631e307b1e328877cc (1).jpg     \b\b\b\b 36%\b\b\b\b\b  OK \n",
            "Extracting  /content/extracted/imgs_titans/train/eren/images.jpg         \b\b\b\b 36%\b\b\b\b\b  OK \n",
            "Extracting  /content/extracted/imgs_titans/train/eren/eren4.jpg          \b\b\b\b 37%\b\b\b\b\b  OK \n",
            "Extracting  /content/extracted/imgs_titans/train/eren/7151caecd31a6ca809989d5bbfade5d5.jpg     \b\b\b\b 37%\b\b\b\b\b  OK \n",
            "Extracting  /content/extracted/imgs_titans/train/eren/kosplej_po_anime_ataka_titanov_na_ehrena_jegera_.jpg     \b\b\b\b 38%\b\b\b\b\b  OK \n",
            "Extracting  /content/extracted/imgs_titans/train/eren/images (2).jpg     \b\b\b\b 38%\b\b\b\b\b  OK \n",
            "Extracting  /content/extracted/imgs_titans/train/eren/1645993038_1-abrakadabra-fun-p-eren-yeger-skrinshoti-iz-anime-3.jpg     \b\b\b\b 39%\b\b\b\b\b  OK \n",
            "Extracting  /content/extracted/imgs_titans/train/eren/1bd6f2ee5f22398599b814082720eebe.jpg     \b\b\b\b 40%\b\b\b\b\b  OK \n",
            "Extracting  /content/extracted/imgs_titans/train/eren/dc0ed5368ab7aada60e7234452432ff4.jpg     \b\b\b\b 41%\b\b\b\b\b  OK \n",
            "Creating    /content/extracted/imgs_titans/train/anny                 OK\n",
            "Extracting  /content/extracted/imgs_titans/train/anny/4bdd8e12b4f9907bcae8aeb1945a153c.jpg     \b\b\b\b 41%\b\b\b\b\b  OK \n",
            "Extracting  /content/extracted/imgs_titans/train/anny/4d3419eb03fbd70bc57acfac9d96f64e.jpg     \b\b\b\b 42%\b\b\b\b\b  OK \n",
            "Extracting  /content/extracted/imgs_titans/train/anny/dffce71f7d75788cb93d06741df3cf02.jpg     \b\b\b\b 43%\b\b\b\b\b  OK \n",
            "Extracting  /content/extracted/imgs_titans/train/anny/48d024347de7dce2925134d4b16a9459 (1).jpg     \b\b\b\b 43%\b\b\b\b\b  OK \n",
            "Extracting  /content/extracted/imgs_titans/train/anny/d8c70d2b434ad95eb6a08abf68e162c4.jpg     \b\b\b\b 44%\b\b\b\b\b  OK \n",
            "Extracting  /content/extracted/imgs_titans/train/anny/539e83e72b4723d9f95cad9d3da81ec0.jpg     \b\b\b\b 45%\b\b\b\b\b  OK \n",
            "Extracting  /content/extracted/imgs_titans/train/anny/66a26e287885f84059e859b8ba5b4348.jpg     \b\b\b\b 45%\b\b\b\b\b  OK \n",
            "Extracting  /content/extracted/imgs_titans/train/anny/d2b825d1c37b9d512fdb2bf9749b71e9.jpg     \b\b\b\b 45%\b\b\b\b\b  OK \n",
            "Extracting  /content/extracted/imgs_titans/train/anny/801c1beda89a0d0c647b8fe2fb5ff3c4.jpg     \b\b\b\b 46%\b\b\b\b\b  OK \n",
            "Extracting  /content/extracted/imgs_titans/train/anny/020a900498634ec6b518ee117106aa3c.jpg     \b\b\b\b 46%\b\b\b\b\b  OK \n",
            "Extracting  /content/extracted/imgs_titans/train/anny/a91e3f4567c3246d3c2e856fb023c0d2.jpg     \b\b\b\b 47%\b\b\b\b\b  OK \n",
            "Extracting  /content/extracted/imgs_titans/train/anny/3ac7a7c35068630a3ac64375d4787fa1.jpg     \b\b\b\b 47%\b\b\b\b\b  OK \n",
            "Extracting  /content/extracted/imgs_titans/train/anny/8d2b2cb5d215e35b9ea9e4faccd060f6.jpg     \b\b\b\b 49%\b\b\b\b\b  OK \n",
            "Extracting  /content/extracted/imgs_titans/train/anny/5b87c9f38e96f22ce238edf3312c33d6.jpg     \b\b\b\b 49%\b\b\b\b\b  OK \n",
            "Extracting  /content/extracted/imgs_titans/train/anny/7092f6af7d0d9980e2c9395cce3c8af8.jpg     \b\b\b\b 50%\b\b\b\b\b  OK \n",
            "Extracting  /content/extracted/imgs_titans/train/anny/db17d384512391479e1a9da218cc04eb.jpg     \b\b\b\b 50%\b\b\b\b\b  OK \n",
            "Extracting  /content/extracted/imgs_titans/train/anny/4d9b11290fe0390a25a8ccfbd1756b2a.jpg     \b\b\b\b 51%\b\b\b\b\b  OK \n",
            "Extracting  /content/extracted/imgs_titans/train/anny/c42b0bdd6273a74b3d8f1c60c8cfc516.jpg     \b\b\b\b 52%\b\b\b\b\b  OK \n",
            "Extracting  /content/extracted/imgs_titans/train/anny/da2ee60856d49a0c146906a7b412f6c7.jpg     \b\b\b\b 52%\b\b\b\b\b  OK \n",
            "Extracting  /content/extracted/imgs_titans/train/anny/3ac7a7c35068630a3ac64375d4787fa1 (1).jpg     \b\b\b\b 53%\b\b\b\b\b  OK \n",
            "Extracting  /content/extracted/imgs_titans/train/anny/48d024347de7dce2925134d4b16a9459.jpg     \b\b\b\b 53%\b\b\b\b\b  OK \n",
            "Extracting  /content/extracted/imgs_titans/train/anny/5fe7e2ae3269bed1a7909d33509c03fd.jpg     \b\b\b\b 54%\b\b\b\b\b  OK \n",
            "Extracting  /content/extracted/imgs_titans/train/anny/a3941725e25557e6ba32335402c06f38.jpg     \b\b\b\b 54%\b\b\b\b\b  OK \n",
            "Extracting  /content/extracted/imgs_titans/train/anny/020a900498634ec6b518ee117106aa3c (1).jpg     \b\b\b\b 54%\b\b\b\b\b  OK \n",
            "Extracting  /content/extracted/imgs_titans/train/anny/a9ee768e8073597ffa722688aa4305a8.jpg     \b\b\b\b 55%\b\b\b\b\b  OK \n",
            "Extracting  /content/extracted/imgs_titans/train/anny/02fed68f6e2bbaf002d65f17cfeac2ba.jpg     \b\b\b\b 56%\b\b\b\b\b  OK \n",
            "Creating    /content/extracted/imgs_titans/train/peak                 OK\n",
            "Extracting  /content/extracted/imgs_titans/train/peak/fb0992bd725e28b2ade68cf4a367a62e.jpg     \b\b\b\b 56%\b\b\b\b\b  OK \n",
            "Extracting  /content/extracted/imgs_titans/train/peak/40ff6efe29dfbc1890106e53532c3589.jpg     \b\b\b\b 56%\b\b\b\b\b  OK \n",
            "Extracting  /content/extracted/imgs_titans/train/peak/9fcf64b589cd90e5fefd85ba5a7ad95c.jpg     \b\b\b\b 57%\b\b\b\b\b  OK \n",
            "Extracting  /content/extracted/imgs_titans/train/peak/3e7c8bbdbce10765ea0b3effc17ff6f4.jpg     \b\b\b\b 57%\b\b\b\b\b  OK \n",
            "Extracting  /content/extracted/imgs_titans/train/peak/fdec9c314d1161db8513503fbc5c2620.jpg     \b\b\b\b 57%\b\b\b\b\b  OK \n",
            "Extracting  /content/extracted/imgs_titans/train/peak/ef775af9b58dc4c7047689366a1cf801.jpg     \b\b\b\b 58%\b\b\b\b\b  OK \n",
            "Extracting  /content/extracted/imgs_titans/train/peak/30af9d232484a9b2079d5a98527126d7.jpg     \b\b\b\b 59%\b\b\b\b\b  OK \n",
            "Extracting  /content/extracted/imgs_titans/train/peak/1d1a5949077b49d5a0dfe955f5bec55e.jpg     \b\b\b\b 59%\b\b\b\b\b  OK \n",
            "Extracting  /content/extracted/imgs_titans/train/peak/123a232257440a56ef77235a12b70f0e.jpg     \b\b\b\b 60%\b\b\b\b\b  OK \n",
            "Extracting  /content/extracted/imgs_titans/train/peak/353d833a462cc85ab7d8f35481a98583.jpg     \b\b\b\b 60%\b\b\b\b\b  OK \n",
            "Extracting  /content/extracted/imgs_titans/train/peak/ca594f7d4b725475eded456122dc3ddf.jpg     \b\b\b\b 61%\b\b\b\b\b  OK \n",
            "Extracting  /content/extracted/imgs_titans/train/peak/f7da9a83af38982d803ed89768f9e28d.jpg     \b\b\b\b 61%\b\b\b\b\b  OK \n",
            "Extracting  /content/extracted/imgs_titans/train/peak/9d7f8616c61a116128da78200db8e562.jpg     \b\b\b\b 62%\b\b\b\b\b  OK \n",
            "Extracting  /content/extracted/imgs_titans/train/peak/5154557cbb0aa16295ac04a341f2c1dd.jpg     \b\b\b\b 63%\b\b\b\b\b  OK \n",
            "Extracting  /content/extracted/imgs_titans/train/peak/bbdd080f56983960a86bf12c60a2f53f.jpg     \b\b\b\b 64%\b\b\b\b\b  OK \n",
            "Extracting  /content/extracted/imgs_titans/train/peak/f36209f7052928ba4e52eef025dc9441.jpg     \b\b\b\b 64%\b\b\b\b\b  OK \n",
            "Extracting  /content/extracted/imgs_titans/train/peak/78e695521c71463e384d40013005d70a.jpg     \b\b\b\b 64%\b\b\b\b\b  OK \n",
            "Extracting  /content/extracted/imgs_titans/train/peak/0df3ec778ea8f2198c86ae467ece558e.jpg     \b\b\b\b 65%\b\b\b\b\b  OK \n",
            "Extracting  /content/extracted/imgs_titans/train/peak/0fddcca0fa09928c529d7d80aa187947.jpg     \b\b\b\b 65%\b\b\b\b\b  OK \n",
            "Extracting  /content/extracted/imgs_titans/train/peak/d4ad686dde30814fee89799eb3b35ef8.jpg     \b\b\b\b 66%\b\b\b\b\b  OK \n",
            "Extracting  /content/extracted/imgs_titans/train/peak/2eb48c3155515d6068972e7320af7521.jpg     \b\b\b\b 66%\b\b\b\b\b  OK \n",
            "Extracting  /content/extracted/imgs_titans/train/peak/e6f072d1145990c6f26217ad5a9a9e10.jpg     \b\b\b\b 67%\b\b\b\b\b  OK \n",
            "Extracting  /content/extracted/imgs_titans/train/peak/81acf79afde5d80c7481fc1d9f799224.jpg     \b\b\b\b 67%\b\b\b\b\b  OK \n",
            "Extracting  /content/extracted/imgs_titans/train/peak/25df0d56c0e507319e7ad874bc25075f.jpg     \b\b\b\b 68%\b\b\b\b\b  OK \n",
            "Extracting  /content/extracted/imgs_titans/train/peak/0a995bc5f61537dc97e8ba290d032c2b.jpg     \b\b\b\b 68%\b\b\b\b\b  OK \n",
            "Extracting  /content/extracted/imgs_titans/train/peak/c2a9ba945d781be44fed092629dd7899.jpg     \b\b\b\b 69%\b\b\b\b\b  OK \n",
            "Extracting  /content/extracted/imgs_titans/train/peak/d12f4759e322c25574c6862d7fa4dd63.jpg     \b\b\b\b 70%\b\b\b\b\b  OK \n",
            "Extracting  /content/extracted/imgs_titans/train/peak/1d0eeb36ef154ac54b71204346c22bf5.jpg     \b\b\b\b 70%\b\b\b\b\b  OK \n",
            "Extracting  /content/extracted/imgs_titans/train/peak/6d58a5b82c1eb2115dbbcc2e21f95efb.jpg     \b\b\b\b 71%\b\b\b\b\b  OK \n",
            "Extracting  /content/extracted/imgs_titans/train/peak/bc31473d3da62b8a2477d86b7c33d178.jpg     \b\b\b\b 71%\b\b\b\b\b  OK \n",
            "Creating    /content/extracted/imgs_titans/train/mikasa               OK\n",
            "Extracting  /content/extracted/imgs_titans/train/mikasa/f507db003f06626cd44ff5990b797b21.jpg     \b\b\b\b 72%\b\b\b\b\b  OK \n",
            "Extracting  /content/extracted/imgs_titans/train/mikasa/ccc957561d742427e921a3b19774b917.jpg     \b\b\b\b 73%\b\b\b\b\b  OK \n",
            "Extracting  /content/extracted/imgs_titans/train/mikasa/fed3a51710ceb8e11f73e38d4dbcac54.jpg     \b\b\b\b 73%\b\b\b\b\b  OK \n",
            "Extracting  /content/extracted/imgs_titans/train/mikasa/ddd20af483125dbf10eed79b054a690b.jpg     \b\b\b\b 73%\b\b\b\b\b  OK \n",
            "Extracting  /content/extracted/imgs_titans/train/mikasa/db256b557b9dccfdf1f3958d3e32df27.jpg     \b\b\b\b 74%\b\b\b\b\b  OK \n",
            "Extracting  /content/extracted/imgs_titans/train/mikasa/c202537b61c4c4c11aa658334227f536.jpg     \b\b\b\b 74%\b\b\b\b\b  OK \n",
            "Extracting  /content/extracted/imgs_titans/train/mikasa/7362296adc9f5d72d3da2d5b92296f87.jpg     \b\b\b\b 75%\b\b\b\b\b  OK \n",
            "Extracting  /content/extracted/imgs_titans/train/mikasa/9406910a6d941f64670294cb111f8d77.jpg     \b\b\b\b 75%\b\b\b\b\b  OK \n",
            "Extracting  /content/extracted/imgs_titans/train/mikasa/1162f830a3857567bbd2b1af87b8751c.jpg     \b\b\b\b 76%\b\b\b\b\b  OK \n",
            "Extracting  /content/extracted/imgs_titans/train/mikasa/5b3c0039d266eb91ba33b2b9a4a3edd3.jpg     \b\b\b\b 78%\b\b\b\b\b  OK \n",
            "Extracting  /content/extracted/imgs_titans/train/mikasa/eac73883d05e0a21fb61bcd970e858a7.jpg     \b\b\b\b 78%\b\b\b\b\b  OK \n",
            "Extracting  /content/extracted/imgs_titans/train/mikasa/36b7a0565c8ef609174614c6bb45f5f6.jpg     \b\b\b\b 79%\b\b\b\b\b  OK \n",
            "Extracting  /content/extracted/imgs_titans/train/mikasa/bf2849d140a2066633779c42e2c877d9.jpg     \b\b\b\b 80%\b\b\b\b\b  OK \n",
            "Extracting  /content/extracted/imgs_titans/train/mikasa/df97b6dfbc59662d92c97f734172ad04.jpg     \b\b\b\b 80%\b\b\b\b\b  OK \n",
            "Extracting  /content/extracted/imgs_titans/train/mikasa/4f17c375a60089c30bc0c0fc51c6dc46.jpg     \b\b\b\b 80%\b\b\b\b\b  OK \n",
            "Extracting  /content/extracted/imgs_titans/train/mikasa/59fae933637a8227680d324dcb010782.jpg     \b\b\b\b 81%\b\b\b\b\b  OK \n",
            "Extracting  /content/extracted/imgs_titans/train/mikasa/783e1cdbd2ae559fb8d58b3a5eced091.jpg     \b\b\b\b 82%\b\b\b\b\b  OK \n",
            "Extracting  /content/extracted/imgs_titans/train/mikasa/b1ec19251ff809ed7aa2700e063f37c7.jpg     \b\b\b\b 83%\b\b\b\b\b  OK \n",
            "Extracting  /content/extracted/imgs_titans/train/mikasa/d0a93cf4540061bc69bf808d870e913b.jpg     \b\b\b\b 84%\b\b\b\b\b  OK \n",
            "Extracting  /content/extracted/imgs_titans/train/mikasa/20d64c69e85285ec72ea60e724966a27.jpg     \b\b\b\b 84%\b\b\b\b\b  OK \n",
            "Extracting  /content/extracted/imgs_titans/train/mikasa/2b98876830694c0d27c0fff638a2eeb8.jpg     \b\b\b\b 85%\b\b\b\b\b  OK \n",
            "Extracting  /content/extracted/imgs_titans/train/mikasa/7175d34c6db0d56a219bff23a3b6889d.jpg     \b\b\b\b 85%\b\b\b\b\b  OK \n",
            "Extracting  /content/extracted/imgs_titans/train/mikasa/9c64a27bb86d127d05f2ebc4b89bcf97.jpg     \b\b\b\b 86%\b\b\b\b\b  OK \n",
            "Extracting  /content/extracted/imgs_titans/train/mikasa/151c17ba9ad7c5e626c00c02ef3b5349.jpg     \b\b\b\b 86%\b\b\b\b\b  OK \n",
            "Extracting  /content/extracted/imgs_titans/train/mikasa/40fc34477b45c393b0d265b809fdf3b0.jpg     \b\b\b\b 87%\b\b\b\b\b  OK \n",
            "Extracting  /content/extracted/imgs_titans/train/mikasa/094bbd484c79aef6a82b582b1dff1448.jpg     \b\b\b\b 88%\b\b\b\b\b  OK \n",
            "Extracting  /content/extracted/imgs_titans/train/mikasa/f3904bfa8aec24aa8bf59a2c561a68e4.jpg     \b\b\b\b 88%\b\b\b\b\b  OK \n",
            "Extracting  /content/extracted/imgs_titans/train/mikasa/545463572b971cdb14be419221f085d6.jpg     \b\b\b\b 89%\b\b\b\b\b  OK \n",
            "Extracting  /content/extracted/imgs_titans/train/mikasa/2d010f83fca8b0954ecdcac48f93ccdd.jpg     \b\b\b\b 89%\b\b\b\b\b  OK \n",
            "Extracting  /content/extracted/imgs_titans/train/mikasa/5ba41b8c9e8a6e72021f9b8afb9e384a.jpg     \b\b\b\b 89%\b\b\b\b\b  OK \n",
            "Creating    /content/extracted/imgs_titans/train/levi                 OK\n",
            "Extracting  /content/extracted/imgs_titans/train/levi/5553f60b21085becc1be492eb0d33cd1.jpg     \b\b\b\b 90%\b\b\b\b\b  OK \n",
            "Extracting  /content/extracted/imgs_titans/train/levi/b3a0a6b40df413b4ba2501a1c488bb16.jpg     \b\b\b\b 90%\b\b\b\b\b  OK \n",
            "Extracting  /content/extracted/imgs_titans/train/levi/e270b107207ff75611a9474563703fad.jpg     \b\b\b\b 91%\b\b\b\b\b  OK \n",
            "Extracting  /content/extracted/imgs_titans/train/levi/88c3b8c6df2844c3223738b5e862793f.jpg     \b\b\b\b 91%\b\b\b\b\b  OK \n",
            "Extracting  /content/extracted/imgs_titans/train/levi/918cadeb09e2be52aae656531c84330e.jpg     \b\b\b\b 92%\b\b\b\b\b  OK \n",
            "Extracting  /content/extracted/imgs_titans/train/levi/9535f9ca805ec12ea2ee617dbda76405.jpg     \b\b\b\b 92%\b\b\b\b\b  OK \n",
            "Extracting  /content/extracted/imgs_titans/train/levi/359a4e232c2905bf1191c5d1a0dc4518.jpg     \b\b\b\b 93%\b\b\b\b\b  OK \n",
            "Extracting  /content/extracted/imgs_titans/train/levi/23984a371a7f3634d93e51e862d5dc7b.jpg     \b\b\b\b 93%\b\b\b\b\b  OK \n",
            "Extracting  /content/extracted/imgs_titans/train/levi/9fef1b05a1ef49920a38188e66dffeba.jpg     \b\b\b\b 93%\b\b\b\b\b  OK \n",
            "Extracting  /content/extracted/imgs_titans/train/levi/7ebd7598f448d6e0bb58c20f95746985.jpg     \b\b\b\b 93%\b\b\b\b\b  OK \n",
            "Extracting  /content/extracted/imgs_titans/train/levi/24bdbaaab49dd0a31869e96e03ad53c1.jpg     \b\b\b\b 94%\b\b\b\b\b  OK \n",
            "Extracting  /content/extracted/imgs_titans/train/levi/11c4402f7dbab0d71b26433540148d2d.jpg     \b\b\b\b 94%\b\b\b\b\b  OK \n",
            "Extracting  /content/extracted/imgs_titans/train/levi/85385c8b179f306869cedd7d05787765.jpg     \b\b\b\b 95%\b\b\b\b\b  OK \n",
            "Extracting  /content/extracted/imgs_titans/train/levi/1e6eac1a68577b6af6a2bc7ab4eff45c.jpg     \b\b\b\b 95%\b\b\b\b\b  OK \n",
            "Extracting  /content/extracted/imgs_titans/train/levi/a357ef658627341e75274fa74996b796.jpg     \b\b\b\b 95%\b\b\b\b\b  OK \n",
            "Extracting  /content/extracted/imgs_titans/train/levi/201828b0d871c7a2315d0c2f37beba96.jpg     \b\b\b\b 96%\b\b\b\b\b  OK \n",
            "Extracting  /content/extracted/imgs_titans/train/levi/6adda80f2dac3238711bf1e3e421bf01.jpg     \b\b\b\b 96%\b\b\b\b\b  OK \n",
            "Extracting  /content/extracted/imgs_titans/train/levi/acc9505a1cf1d0adbd11967eb614c5ce.jpg     \b\b\b\b 96%\b\b\b\b\b  OK \n",
            "Extracting  /content/extracted/imgs_titans/train/levi/c7b1f204f39eb3d33d08e08d09d16eef.jpg     \b\b\b\b 96%\b\b\b\b\b  OK \n",
            "Extracting  /content/extracted/imgs_titans/train/levi/3492326109eb6d7259468503d4893667.jpg     \b\b\b\b 97%\b\b\b\b\b  OK \n",
            "Extracting  /content/extracted/imgs_titans/train/levi/895df684a5f4ab9231d82af6dc3edff5.jpg     \b\b\b\b 97%\b\b\b\b\b  OK \n",
            "Extracting  /content/extracted/imgs_titans/train/levi/4c07ce6601dd3a24fefb9c5a8f5f8281.jpg     \b\b\b\b 98%\b\b\b\b\b  OK \n",
            "Extracting  /content/extracted/imgs_titans/train/levi/70231cd20a313f1e6a5eff3423e13753.jpg     \b\b\b\b 98%\b\b\b\b\b  OK \n",
            "Extracting  /content/extracted/imgs_titans/train/levi/997f2b881fa184f91c197c2fb88ae9b4.jpg     \b\b\b\b 98%\b\b\b\b\b  OK \n",
            "Extracting  /content/extracted/imgs_titans/train/levi/b29a8e69f6b7456835c39057363cc2ad.jpg     \b\b\b\b 99%\b\b\b\b\b  OK \n",
            "Extracting  /content/extracted/imgs_titans/train/levi/5ef5c3dde65da1c2c2c3d88fd2849d1e.jpg     \b\b\b\b 99%\b\b\b\b\b  OK \n",
            "Extracting  /content/extracted/imgs_titans/train/levi/0f3a18c7bf1e382dc47cec7c8a98e9bc.jpg     \b\b\b\b 99%\b\b\b\b\b  OK \n",
            "Extracting  /content/extracted/imgs_titans/train/levi/4fbc99db4b120621af7a9718f4752bf2.jpg     \b\b\b\b 99%\b\b\b\b\b  OK \n",
            "All OK\n",
            "Распакован: imgs_titans.rar\n"
          ]
        }
      ],
      "source": [
        "# распаковка rar\n",
        "import os\n",
        "\n",
        "files = [f for f in os.listdir('.') if f.endswith('.rar')]\n",
        "if files:\n",
        "    !apt-get install -y unrar\n",
        "    for file in files:\n",
        "        !unrar x \"{file}\" \"/content/extracted/\"\n",
        "        print(f\"Распакован: {file}\")\n",
        "else:\n",
        "    print(\"RAR файлы не найдены\")"
      ]
    },
    {
      "cell_type": "code",
      "source": [
        "#импорт библиотек\n",
        "import json\n",
        "import torch\n",
        "import torch.utils.data as data\n",
        "from torchvision import models\n",
        "import torchvision.transforms.v2 as tfs\n",
        "import torch.nn as nn\n",
        "import torch.optim as optim\n",
        "import numpy as np\n",
        "from PIL import Image\n",
        "from torch.utils.data import ConcatDataset\n"
      ],
      "metadata": {
        "id": "8hHDklo0PDsd"
      },
      "execution_count": 447,
      "outputs": []
    },
    {
      "cell_type": "code",
      "source": [
        "device = \"cuda:0\" if torch.cuda.is_available() else \"cpu\""
      ],
      "metadata": {
        "id": "LRu_AVOJZqxA"
      },
      "execution_count": 3,
      "outputs": []
    },
    {
      "cell_type": "code",
      "source": [
        "#свой датасет из распакованной rar\n",
        "class AotDataset(data.Dataset):\n",
        "    def __init__(self, path, train=True, transform=None):\n",
        "        self.path = os.path.join(path, \"train\" if train else \"test\")\n",
        "        self.transform = transform\n",
        "\n",
        "        with open(os.path.join(self.path, \"format.json\"), \"r\") as fp:\n",
        "            self.format = json.load(fp)\n",
        "\n",
        "        self.length = 0\n",
        "        self.files = []\n",
        "        self.targets = torch.eye(7)\n",
        "\n",
        "        for _dir, _target in self.format.items():\n",
        "            path = os.path.join(self.path, _dir)\n",
        "            list_files = os.listdir(path)\n",
        "            self.length += len(list_files)\n",
        "            self.files.extend(map(lambda _x: (os.path.join(path, _x), _target), list_files))\n",
        "\n",
        "    def __getitem__(self, item):\n",
        "        path_file, target = self.files[item]\n",
        "        t = self.targets[target]\n",
        "        img = Image.open(path_file)\n",
        "\n",
        "        if self.transform:\n",
        "            img = self.transform(img)\n",
        "        return img, t\n",
        "\n",
        "    def __len__(self):\n",
        "        return self.length\n",
        "w = models.ResNet18_Weights.DEFAULT #выбор маленькой модели реснет(веса)\n",
        "transforms = w.transforms() #выбор маленькой модели реснет(tfs)"
      ],
      "metadata": {
        "id": "qA1B95ZMP3ZD"
      },
      "execution_count": 442,
      "outputs": []
    },
    {
      "cell_type": "code",
      "source": [
        "model = models.resnet18(weights = w).to(device) #выбор маленькой модели реснет\n",
        "model.requires_grad_(False) #замораживаем веса всей модели\n",
        "model.fc = nn.Linear(512, 7).to(device) #модифицируем fc слой под количество классов перекладываем на gpu\n",
        "model.fc.requires_grad_(True) #отмораживаем fc веса\n",
        "model.layer4.requires_grad_(True).to(device) #разморозка последнего сверточного слоя и перекладка на gpu"
      ],
      "metadata": {
        "colab": {
          "base_uri": "https://localhost:8080/"
        },
        "id": "huoqw3stSlxW",
        "outputId": "4f12f5b0-9ac5-4e5b-a463-9ed0fe70f05e"
      },
      "execution_count": 443,
      "outputs": [
        {
          "output_type": "execute_result",
          "data": {
            "text/plain": [
              "Sequential(\n",
              "  (0): BasicBlock(\n",
              "    (conv1): Conv2d(256, 512, kernel_size=(3, 3), stride=(2, 2), padding=(1, 1), bias=False)\n",
              "    (bn1): BatchNorm2d(512, eps=1e-05, momentum=0.1, affine=True, track_running_stats=True)\n",
              "    (relu): ReLU(inplace=True)\n",
              "    (conv2): Conv2d(512, 512, kernel_size=(3, 3), stride=(1, 1), padding=(1, 1), bias=False)\n",
              "    (bn2): BatchNorm2d(512, eps=1e-05, momentum=0.1, affine=True, track_running_stats=True)\n",
              "    (downsample): Sequential(\n",
              "      (0): Conv2d(256, 512, kernel_size=(1, 1), stride=(2, 2), bias=False)\n",
              "      (1): BatchNorm2d(512, eps=1e-05, momentum=0.1, affine=True, track_running_stats=True)\n",
              "    )\n",
              "  )\n",
              "  (1): BasicBlock(\n",
              "    (conv1): Conv2d(512, 512, kernel_size=(3, 3), stride=(1, 1), padding=(1, 1), bias=False)\n",
              "    (bn1): BatchNorm2d(512, eps=1e-05, momentum=0.1, affine=True, track_running_stats=True)\n",
              "    (relu): ReLU(inplace=True)\n",
              "    (conv2): Conv2d(512, 512, kernel_size=(3, 3), stride=(1, 1), padding=(1, 1), bias=False)\n",
              "    (bn2): BatchNorm2d(512, eps=1e-05, momentum=0.1, affine=True, track_running_stats=True)\n",
              "  )\n",
              ")"
            ]
          },
          "metadata": {},
          "execution_count": 443
        }
      ]
    },
    {
      "cell_type": "code",
      "source": [
        "#создание 2 объектов нашего класса Dataset для треина и теста\n",
        "d_train = AotDataset(r\"extracted/imgs_titans\", transform = transforms)\n",
        "d_test = AotDataset(r\"extracted/imgs_titans\", train=False, transform=transforms)\n",
        "aug = tfs.Compose(\n",
        "    [\n",
        "        tfs.RandomRotation(degrees=15),\n",
        "        transforms\n",
        "    ]\n",
        ")\n",
        "d_train_aug = AotDataset(r\"extracted/imgs_titans\", transform = aug)\n",
        "d_train_vmeste = ConcatDataset([d_train, d_train_aug])\n",
        "d_train_train, d_train_valid =  data.random_split(d_train_vmeste, [0.7, 0.3])\n",
        "#создания 2 даталоудеров для треина и теста\n",
        "train_data = data.DataLoader(d_train_train, batch_size = 10, shuffle = True)\n",
        "valid_data = data.DataLoader(d_train_valid, batch_size = 4, shuffle = True)\n",
        "test_data = data.DataLoader(d_test, batch_size=3, shuffle=False)"
      ],
      "metadata": {
        "id": "qc8uTWk6TQq-"
      },
      "execution_count": 444,
      "outputs": []
    },
    {
      "cell_type": "code",
      "source": [
        "#оптимизатор\n",
        "optimizer = optim.Adam([\n",
        "    {'params': model.fc.parameters(), 'lr': 0.001},\n",
        "    {'params': model.layer4.parameters(), 'lr': 0.000001}\n",
        "], weight_decay=0.001)\n",
        "loss_func = nn.CrossEntropyLoss()"
      ],
      "metadata": {
        "id": "GwSPCxuNYnA3"
      },
      "execution_count": 445,
      "outputs": []
    },
    {
      "cell_type": "code",
      "source": [
        "for epoch in range(55):\n",
        "  epoch_loss = 0\n",
        "  count = 0\n",
        "  epoch_loss2 = 0\n",
        "  count2 = 0\n",
        "  for x_train, y_train in train_data:\n",
        "    model.train()\n",
        "    x_train = x_train.to(device)\n",
        "    y_train = y_train.to(device)\n",
        "    predict = model(x_train)\n",
        "    L = loss_func(predict, y_train)\n",
        "    optimizer.zero_grad()\n",
        "    L.backward()\n",
        "    optimizer.step()\n",
        "    epoch_loss += L.item()\n",
        "    count += 1\n",
        "  for x_valid, y_valid in valid_data:\n",
        "    model.eval()\n",
        "    x_valid = x_valid.to(device)\n",
        "    y_valid = y_valid.to(device)\n",
        "    pr = (model(x_valid))\n",
        "    L = loss_func(pr, y_valid)\n",
        "    epoch_loss2 += L.item()\n",
        "    count2 += 1\n",
        "  print(f\"epoch = {epoch} , L_mean_train = {epoch_loss/count}, L_mean_valid = {epoch_loss2/count2}\")\n",
        "\n"
      ],
      "metadata": {
        "id": "eoZZqeRvUmet",
        "colab": {
          "base_uri": "https://localhost:8080/",
          "height": 391
        },
        "outputId": "16bfc46d-c7b1-421b-8e9f-c96c01ce793d"
      },
      "execution_count": 446,
      "outputs": [
        {
          "output_type": "stream",
          "name": "stdout",
          "text": [
            "epoch = 0 , L_mean_train = 1.9744575364249093, L_mean_valid = 1.7383101145426432\n"
          ]
        },
        {
          "output_type": "error",
          "ename": "KeyboardInterrupt",
          "evalue": "",
          "traceback": [
            "\u001b[0;31m---------------------------------------------------------------------------\u001b[0m",
            "\u001b[0;31mKeyboardInterrupt\u001b[0m                         Traceback (most recent call last)",
            "\u001b[0;32m/tmp/ipython-input-742321257.py\u001b[0m in \u001b[0;36m<cell line: 0>\u001b[0;34m()\u001b[0m\n\u001b[1;32m      8\u001b[0m     \u001b[0mx_train\u001b[0m \u001b[0;34m=\u001b[0m \u001b[0mx_train\u001b[0m\u001b[0;34m.\u001b[0m\u001b[0mto\u001b[0m\u001b[0;34m(\u001b[0m\u001b[0mdevice\u001b[0m\u001b[0;34m)\u001b[0m\u001b[0;34m\u001b[0m\u001b[0;34m\u001b[0m\u001b[0m\n\u001b[1;32m      9\u001b[0m     \u001b[0my_train\u001b[0m \u001b[0;34m=\u001b[0m \u001b[0my_train\u001b[0m\u001b[0;34m.\u001b[0m\u001b[0mto\u001b[0m\u001b[0;34m(\u001b[0m\u001b[0mdevice\u001b[0m\u001b[0;34m)\u001b[0m\u001b[0;34m\u001b[0m\u001b[0;34m\u001b[0m\u001b[0m\n\u001b[0;32m---> 10\u001b[0;31m     \u001b[0mpredict\u001b[0m \u001b[0;34m=\u001b[0m \u001b[0mmodel\u001b[0m\u001b[0;34m(\u001b[0m\u001b[0mx_train\u001b[0m\u001b[0;34m)\u001b[0m\u001b[0;34m\u001b[0m\u001b[0;34m\u001b[0m\u001b[0m\n\u001b[0m\u001b[1;32m     11\u001b[0m     \u001b[0mL\u001b[0m \u001b[0;34m=\u001b[0m \u001b[0mloss_func\u001b[0m\u001b[0;34m(\u001b[0m\u001b[0mpredict\u001b[0m\u001b[0;34m,\u001b[0m \u001b[0my_train\u001b[0m\u001b[0;34m)\u001b[0m\u001b[0;34m\u001b[0m\u001b[0;34m\u001b[0m\u001b[0m\n\u001b[1;32m     12\u001b[0m     \u001b[0moptimizer\u001b[0m\u001b[0;34m.\u001b[0m\u001b[0mzero_grad\u001b[0m\u001b[0;34m(\u001b[0m\u001b[0;34m)\u001b[0m\u001b[0;34m\u001b[0m\u001b[0;34m\u001b[0m\u001b[0m\n",
            "\u001b[0;32m/usr/local/lib/python3.12/dist-packages/torch/nn/modules/module.py\u001b[0m in \u001b[0;36m_wrapped_call_impl\u001b[0;34m(self, *args, **kwargs)\u001b[0m\n\u001b[1;32m   1771\u001b[0m             \u001b[0;32mreturn\u001b[0m \u001b[0mself\u001b[0m\u001b[0;34m.\u001b[0m\u001b[0m_compiled_call_impl\u001b[0m\u001b[0;34m(\u001b[0m\u001b[0;34m*\u001b[0m\u001b[0margs\u001b[0m\u001b[0;34m,\u001b[0m \u001b[0;34m**\u001b[0m\u001b[0mkwargs\u001b[0m\u001b[0;34m)\u001b[0m  \u001b[0;31m# type: ignore[misc]\u001b[0m\u001b[0;34m\u001b[0m\u001b[0;34m\u001b[0m\u001b[0m\n\u001b[1;32m   1772\u001b[0m         \u001b[0;32melse\u001b[0m\u001b[0;34m:\u001b[0m\u001b[0;34m\u001b[0m\u001b[0;34m\u001b[0m\u001b[0m\n\u001b[0;32m-> 1773\u001b[0;31m             \u001b[0;32mreturn\u001b[0m \u001b[0mself\u001b[0m\u001b[0;34m.\u001b[0m\u001b[0m_call_impl\u001b[0m\u001b[0;34m(\u001b[0m\u001b[0;34m*\u001b[0m\u001b[0margs\u001b[0m\u001b[0;34m,\u001b[0m \u001b[0;34m**\u001b[0m\u001b[0mkwargs\u001b[0m\u001b[0;34m)\u001b[0m\u001b[0;34m\u001b[0m\u001b[0;34m\u001b[0m\u001b[0m\n\u001b[0m\u001b[1;32m   1774\u001b[0m \u001b[0;34m\u001b[0m\u001b[0m\n\u001b[1;32m   1775\u001b[0m     \u001b[0;31m# torchrec tests the code consistency with the following code\u001b[0m\u001b[0;34m\u001b[0m\u001b[0;34m\u001b[0m\u001b[0m\n",
            "\u001b[0;32m/usr/local/lib/python3.12/dist-packages/torch/nn/modules/module.py\u001b[0m in \u001b[0;36m_call_impl\u001b[0;34m(self, *args, **kwargs)\u001b[0m\n\u001b[1;32m   1782\u001b[0m                 \u001b[0;32mor\u001b[0m \u001b[0m_global_backward_pre_hooks\u001b[0m \u001b[0;32mor\u001b[0m \u001b[0m_global_backward_hooks\u001b[0m\u001b[0;34m\u001b[0m\u001b[0;34m\u001b[0m\u001b[0m\n\u001b[1;32m   1783\u001b[0m                 or _global_forward_hooks or _global_forward_pre_hooks):\n\u001b[0;32m-> 1784\u001b[0;31m             \u001b[0;32mreturn\u001b[0m \u001b[0mforward_call\u001b[0m\u001b[0;34m(\u001b[0m\u001b[0;34m*\u001b[0m\u001b[0margs\u001b[0m\u001b[0;34m,\u001b[0m \u001b[0;34m**\u001b[0m\u001b[0mkwargs\u001b[0m\u001b[0;34m)\u001b[0m\u001b[0;34m\u001b[0m\u001b[0;34m\u001b[0m\u001b[0m\n\u001b[0m\u001b[1;32m   1785\u001b[0m \u001b[0;34m\u001b[0m\u001b[0m\n\u001b[1;32m   1786\u001b[0m         \u001b[0mresult\u001b[0m \u001b[0;34m=\u001b[0m \u001b[0;32mNone\u001b[0m\u001b[0;34m\u001b[0m\u001b[0;34m\u001b[0m\u001b[0m\n",
            "\u001b[0;32m/usr/local/lib/python3.12/dist-packages/torchvision/models/resnet.py\u001b[0m in \u001b[0;36mforward\u001b[0;34m(self, x)\u001b[0m\n\u001b[1;32m    283\u001b[0m \u001b[0;34m\u001b[0m\u001b[0m\n\u001b[1;32m    284\u001b[0m     \u001b[0;32mdef\u001b[0m \u001b[0mforward\u001b[0m\u001b[0;34m(\u001b[0m\u001b[0mself\u001b[0m\u001b[0;34m,\u001b[0m \u001b[0mx\u001b[0m\u001b[0;34m:\u001b[0m \u001b[0mTensor\u001b[0m\u001b[0;34m)\u001b[0m \u001b[0;34m->\u001b[0m \u001b[0mTensor\u001b[0m\u001b[0;34m:\u001b[0m\u001b[0;34m\u001b[0m\u001b[0;34m\u001b[0m\u001b[0m\n\u001b[0;32m--> 285\u001b[0;31m         \u001b[0;32mreturn\u001b[0m \u001b[0mself\u001b[0m\u001b[0;34m.\u001b[0m\u001b[0m_forward_impl\u001b[0m\u001b[0;34m(\u001b[0m\u001b[0mx\u001b[0m\u001b[0;34m)\u001b[0m\u001b[0;34m\u001b[0m\u001b[0;34m\u001b[0m\u001b[0m\n\u001b[0m\u001b[1;32m    286\u001b[0m \u001b[0;34m\u001b[0m\u001b[0m\n\u001b[1;32m    287\u001b[0m \u001b[0;34m\u001b[0m\u001b[0m\n",
            "\u001b[0;32m/usr/local/lib/python3.12/dist-packages/torchvision/models/resnet.py\u001b[0m in \u001b[0;36m_forward_impl\u001b[0;34m(self, x)\u001b[0m\n\u001b[1;32m    272\u001b[0m \u001b[0;34m\u001b[0m\u001b[0m\n\u001b[1;32m    273\u001b[0m         \u001b[0mx\u001b[0m \u001b[0;34m=\u001b[0m \u001b[0mself\u001b[0m\u001b[0;34m.\u001b[0m\u001b[0mlayer1\u001b[0m\u001b[0;34m(\u001b[0m\u001b[0mx\u001b[0m\u001b[0;34m)\u001b[0m\u001b[0;34m\u001b[0m\u001b[0;34m\u001b[0m\u001b[0m\n\u001b[0;32m--> 274\u001b[0;31m         \u001b[0mx\u001b[0m \u001b[0;34m=\u001b[0m \u001b[0mself\u001b[0m\u001b[0;34m.\u001b[0m\u001b[0mlayer2\u001b[0m\u001b[0;34m(\u001b[0m\u001b[0mx\u001b[0m\u001b[0;34m)\u001b[0m\u001b[0;34m\u001b[0m\u001b[0;34m\u001b[0m\u001b[0m\n\u001b[0m\u001b[1;32m    275\u001b[0m         \u001b[0mx\u001b[0m \u001b[0;34m=\u001b[0m \u001b[0mself\u001b[0m\u001b[0;34m.\u001b[0m\u001b[0mlayer3\u001b[0m\u001b[0;34m(\u001b[0m\u001b[0mx\u001b[0m\u001b[0;34m)\u001b[0m\u001b[0;34m\u001b[0m\u001b[0;34m\u001b[0m\u001b[0m\n\u001b[1;32m    276\u001b[0m         \u001b[0mx\u001b[0m \u001b[0;34m=\u001b[0m \u001b[0mself\u001b[0m\u001b[0;34m.\u001b[0m\u001b[0mlayer4\u001b[0m\u001b[0;34m(\u001b[0m\u001b[0mx\u001b[0m\u001b[0;34m)\u001b[0m\u001b[0;34m\u001b[0m\u001b[0;34m\u001b[0m\u001b[0m\n",
            "\u001b[0;32m/usr/local/lib/python3.12/dist-packages/torch/nn/modules/module.py\u001b[0m in \u001b[0;36m_wrapped_call_impl\u001b[0;34m(self, *args, **kwargs)\u001b[0m\n\u001b[1;32m   1771\u001b[0m             \u001b[0;32mreturn\u001b[0m \u001b[0mself\u001b[0m\u001b[0;34m.\u001b[0m\u001b[0m_compiled_call_impl\u001b[0m\u001b[0;34m(\u001b[0m\u001b[0;34m*\u001b[0m\u001b[0margs\u001b[0m\u001b[0;34m,\u001b[0m \u001b[0;34m**\u001b[0m\u001b[0mkwargs\u001b[0m\u001b[0;34m)\u001b[0m  \u001b[0;31m# type: ignore[misc]\u001b[0m\u001b[0;34m\u001b[0m\u001b[0;34m\u001b[0m\u001b[0m\n\u001b[1;32m   1772\u001b[0m         \u001b[0;32melse\u001b[0m\u001b[0;34m:\u001b[0m\u001b[0;34m\u001b[0m\u001b[0;34m\u001b[0m\u001b[0m\n\u001b[0;32m-> 1773\u001b[0;31m             \u001b[0;32mreturn\u001b[0m \u001b[0mself\u001b[0m\u001b[0;34m.\u001b[0m\u001b[0m_call_impl\u001b[0m\u001b[0;34m(\u001b[0m\u001b[0;34m*\u001b[0m\u001b[0margs\u001b[0m\u001b[0;34m,\u001b[0m \u001b[0;34m**\u001b[0m\u001b[0mkwargs\u001b[0m\u001b[0;34m)\u001b[0m\u001b[0;34m\u001b[0m\u001b[0;34m\u001b[0m\u001b[0m\n\u001b[0m\u001b[1;32m   1774\u001b[0m \u001b[0;34m\u001b[0m\u001b[0m\n\u001b[1;32m   1775\u001b[0m     \u001b[0;31m# torchrec tests the code consistency with the following code\u001b[0m\u001b[0;34m\u001b[0m\u001b[0;34m\u001b[0m\u001b[0m\n",
            "\u001b[0;32m/usr/local/lib/python3.12/dist-packages/torch/nn/modules/module.py\u001b[0m in \u001b[0;36m_call_impl\u001b[0;34m(self, *args, **kwargs)\u001b[0m\n\u001b[1;32m   1782\u001b[0m                 \u001b[0;32mor\u001b[0m \u001b[0m_global_backward_pre_hooks\u001b[0m \u001b[0;32mor\u001b[0m \u001b[0m_global_backward_hooks\u001b[0m\u001b[0;34m\u001b[0m\u001b[0;34m\u001b[0m\u001b[0m\n\u001b[1;32m   1783\u001b[0m                 or _global_forward_hooks or _global_forward_pre_hooks):\n\u001b[0;32m-> 1784\u001b[0;31m             \u001b[0;32mreturn\u001b[0m \u001b[0mforward_call\u001b[0m\u001b[0;34m(\u001b[0m\u001b[0;34m*\u001b[0m\u001b[0margs\u001b[0m\u001b[0;34m,\u001b[0m \u001b[0;34m**\u001b[0m\u001b[0mkwargs\u001b[0m\u001b[0;34m)\u001b[0m\u001b[0;34m\u001b[0m\u001b[0;34m\u001b[0m\u001b[0m\n\u001b[0m\u001b[1;32m   1785\u001b[0m \u001b[0;34m\u001b[0m\u001b[0m\n\u001b[1;32m   1786\u001b[0m         \u001b[0mresult\u001b[0m \u001b[0;34m=\u001b[0m \u001b[0;32mNone\u001b[0m\u001b[0;34m\u001b[0m\u001b[0;34m\u001b[0m\u001b[0m\n",
            "\u001b[0;32m/usr/local/lib/python3.12/dist-packages/torch/nn/modules/container.py\u001b[0m in \u001b[0;36mforward\u001b[0;34m(self, input)\u001b[0m\n\u001b[1;32m    242\u001b[0m     \u001b[0;32mdef\u001b[0m \u001b[0mforward\u001b[0m\u001b[0;34m(\u001b[0m\u001b[0mself\u001b[0m\u001b[0;34m,\u001b[0m \u001b[0minput\u001b[0m\u001b[0;34m)\u001b[0m\u001b[0;34m:\u001b[0m\u001b[0;34m\u001b[0m\u001b[0;34m\u001b[0m\u001b[0m\n\u001b[1;32m    243\u001b[0m         \u001b[0;32mfor\u001b[0m \u001b[0mmodule\u001b[0m \u001b[0;32min\u001b[0m \u001b[0mself\u001b[0m\u001b[0;34m:\u001b[0m\u001b[0;34m\u001b[0m\u001b[0;34m\u001b[0m\u001b[0m\n\u001b[0;32m--> 244\u001b[0;31m             \u001b[0minput\u001b[0m \u001b[0;34m=\u001b[0m \u001b[0mmodule\u001b[0m\u001b[0;34m(\u001b[0m\u001b[0minput\u001b[0m\u001b[0;34m)\u001b[0m\u001b[0;34m\u001b[0m\u001b[0;34m\u001b[0m\u001b[0m\n\u001b[0m\u001b[1;32m    245\u001b[0m         \u001b[0;32mreturn\u001b[0m \u001b[0minput\u001b[0m\u001b[0;34m\u001b[0m\u001b[0;34m\u001b[0m\u001b[0m\n\u001b[1;32m    246\u001b[0m \u001b[0;34m\u001b[0m\u001b[0m\n",
            "\u001b[0;32m/usr/local/lib/python3.12/dist-packages/torch/nn/modules/module.py\u001b[0m in \u001b[0;36m_wrapped_call_impl\u001b[0;34m(self, *args, **kwargs)\u001b[0m\n\u001b[1;32m   1771\u001b[0m             \u001b[0;32mreturn\u001b[0m \u001b[0mself\u001b[0m\u001b[0;34m.\u001b[0m\u001b[0m_compiled_call_impl\u001b[0m\u001b[0;34m(\u001b[0m\u001b[0;34m*\u001b[0m\u001b[0margs\u001b[0m\u001b[0;34m,\u001b[0m \u001b[0;34m**\u001b[0m\u001b[0mkwargs\u001b[0m\u001b[0;34m)\u001b[0m  \u001b[0;31m# type: ignore[misc]\u001b[0m\u001b[0;34m\u001b[0m\u001b[0;34m\u001b[0m\u001b[0m\n\u001b[1;32m   1772\u001b[0m         \u001b[0;32melse\u001b[0m\u001b[0;34m:\u001b[0m\u001b[0;34m\u001b[0m\u001b[0;34m\u001b[0m\u001b[0m\n\u001b[0;32m-> 1773\u001b[0;31m             \u001b[0;32mreturn\u001b[0m \u001b[0mself\u001b[0m\u001b[0;34m.\u001b[0m\u001b[0m_call_impl\u001b[0m\u001b[0;34m(\u001b[0m\u001b[0;34m*\u001b[0m\u001b[0margs\u001b[0m\u001b[0;34m,\u001b[0m \u001b[0;34m**\u001b[0m\u001b[0mkwargs\u001b[0m\u001b[0;34m)\u001b[0m\u001b[0;34m\u001b[0m\u001b[0;34m\u001b[0m\u001b[0m\n\u001b[0m\u001b[1;32m   1774\u001b[0m \u001b[0;34m\u001b[0m\u001b[0m\n\u001b[1;32m   1775\u001b[0m     \u001b[0;31m# torchrec tests the code consistency with the following code\u001b[0m\u001b[0;34m\u001b[0m\u001b[0;34m\u001b[0m\u001b[0m\n",
            "\u001b[0;32m/usr/local/lib/python3.12/dist-packages/torch/nn/modules/module.py\u001b[0m in \u001b[0;36m_call_impl\u001b[0;34m(self, *args, **kwargs)\u001b[0m\n\u001b[1;32m   1782\u001b[0m                 \u001b[0;32mor\u001b[0m \u001b[0m_global_backward_pre_hooks\u001b[0m \u001b[0;32mor\u001b[0m \u001b[0m_global_backward_hooks\u001b[0m\u001b[0;34m\u001b[0m\u001b[0;34m\u001b[0m\u001b[0m\n\u001b[1;32m   1783\u001b[0m                 or _global_forward_hooks or _global_forward_pre_hooks):\n\u001b[0;32m-> 1784\u001b[0;31m             \u001b[0;32mreturn\u001b[0m \u001b[0mforward_call\u001b[0m\u001b[0;34m(\u001b[0m\u001b[0;34m*\u001b[0m\u001b[0margs\u001b[0m\u001b[0;34m,\u001b[0m \u001b[0;34m**\u001b[0m\u001b[0mkwargs\u001b[0m\u001b[0;34m)\u001b[0m\u001b[0;34m\u001b[0m\u001b[0;34m\u001b[0m\u001b[0m\n\u001b[0m\u001b[1;32m   1785\u001b[0m \u001b[0;34m\u001b[0m\u001b[0m\n\u001b[1;32m   1786\u001b[0m         \u001b[0mresult\u001b[0m \u001b[0;34m=\u001b[0m \u001b[0;32mNone\u001b[0m\u001b[0;34m\u001b[0m\u001b[0;34m\u001b[0m\u001b[0m\n",
            "\u001b[0;32m/usr/local/lib/python3.12/dist-packages/torchvision/models/resnet.py\u001b[0m in \u001b[0;36mforward\u001b[0;34m(self, x)\u001b[0m\n\u001b[1;32m     94\u001b[0m         \u001b[0mout\u001b[0m \u001b[0;34m=\u001b[0m \u001b[0mself\u001b[0m\u001b[0;34m.\u001b[0m\u001b[0mrelu\u001b[0m\u001b[0;34m(\u001b[0m\u001b[0mout\u001b[0m\u001b[0;34m)\u001b[0m\u001b[0;34m\u001b[0m\u001b[0;34m\u001b[0m\u001b[0m\n\u001b[1;32m     95\u001b[0m \u001b[0;34m\u001b[0m\u001b[0m\n\u001b[0;32m---> 96\u001b[0;31m         \u001b[0mout\u001b[0m \u001b[0;34m=\u001b[0m \u001b[0mself\u001b[0m\u001b[0;34m.\u001b[0m\u001b[0mconv2\u001b[0m\u001b[0;34m(\u001b[0m\u001b[0mout\u001b[0m\u001b[0;34m)\u001b[0m\u001b[0;34m\u001b[0m\u001b[0;34m\u001b[0m\u001b[0m\n\u001b[0m\u001b[1;32m     97\u001b[0m         \u001b[0mout\u001b[0m \u001b[0;34m=\u001b[0m \u001b[0mself\u001b[0m\u001b[0;34m.\u001b[0m\u001b[0mbn2\u001b[0m\u001b[0;34m(\u001b[0m\u001b[0mout\u001b[0m\u001b[0;34m)\u001b[0m\u001b[0;34m\u001b[0m\u001b[0;34m\u001b[0m\u001b[0m\n\u001b[1;32m     98\u001b[0m \u001b[0;34m\u001b[0m\u001b[0m\n",
            "\u001b[0;32m/usr/local/lib/python3.12/dist-packages/torch/nn/modules/module.py\u001b[0m in \u001b[0;36m_wrapped_call_impl\u001b[0;34m(self, *args, **kwargs)\u001b[0m\n\u001b[1;32m   1771\u001b[0m             \u001b[0;32mreturn\u001b[0m \u001b[0mself\u001b[0m\u001b[0;34m.\u001b[0m\u001b[0m_compiled_call_impl\u001b[0m\u001b[0;34m(\u001b[0m\u001b[0;34m*\u001b[0m\u001b[0margs\u001b[0m\u001b[0;34m,\u001b[0m \u001b[0;34m**\u001b[0m\u001b[0mkwargs\u001b[0m\u001b[0;34m)\u001b[0m  \u001b[0;31m# type: ignore[misc]\u001b[0m\u001b[0;34m\u001b[0m\u001b[0;34m\u001b[0m\u001b[0m\n\u001b[1;32m   1772\u001b[0m         \u001b[0;32melse\u001b[0m\u001b[0;34m:\u001b[0m\u001b[0;34m\u001b[0m\u001b[0;34m\u001b[0m\u001b[0m\n\u001b[0;32m-> 1773\u001b[0;31m             \u001b[0;32mreturn\u001b[0m \u001b[0mself\u001b[0m\u001b[0;34m.\u001b[0m\u001b[0m_call_impl\u001b[0m\u001b[0;34m(\u001b[0m\u001b[0;34m*\u001b[0m\u001b[0margs\u001b[0m\u001b[0;34m,\u001b[0m \u001b[0;34m**\u001b[0m\u001b[0mkwargs\u001b[0m\u001b[0;34m)\u001b[0m\u001b[0;34m\u001b[0m\u001b[0;34m\u001b[0m\u001b[0m\n\u001b[0m\u001b[1;32m   1774\u001b[0m \u001b[0;34m\u001b[0m\u001b[0m\n\u001b[1;32m   1775\u001b[0m     \u001b[0;31m# torchrec tests the code consistency with the following code\u001b[0m\u001b[0;34m\u001b[0m\u001b[0;34m\u001b[0m\u001b[0m\n",
            "\u001b[0;32m/usr/local/lib/python3.12/dist-packages/torch/nn/modules/module.py\u001b[0m in \u001b[0;36m_call_impl\u001b[0;34m(self, *args, **kwargs)\u001b[0m\n\u001b[1;32m   1782\u001b[0m                 \u001b[0;32mor\u001b[0m \u001b[0m_global_backward_pre_hooks\u001b[0m \u001b[0;32mor\u001b[0m \u001b[0m_global_backward_hooks\u001b[0m\u001b[0;34m\u001b[0m\u001b[0;34m\u001b[0m\u001b[0m\n\u001b[1;32m   1783\u001b[0m                 or _global_forward_hooks or _global_forward_pre_hooks):\n\u001b[0;32m-> 1784\u001b[0;31m             \u001b[0;32mreturn\u001b[0m \u001b[0mforward_call\u001b[0m\u001b[0;34m(\u001b[0m\u001b[0;34m*\u001b[0m\u001b[0margs\u001b[0m\u001b[0;34m,\u001b[0m \u001b[0;34m**\u001b[0m\u001b[0mkwargs\u001b[0m\u001b[0;34m)\u001b[0m\u001b[0;34m\u001b[0m\u001b[0;34m\u001b[0m\u001b[0m\n\u001b[0m\u001b[1;32m   1785\u001b[0m \u001b[0;34m\u001b[0m\u001b[0m\n\u001b[1;32m   1786\u001b[0m         \u001b[0mresult\u001b[0m \u001b[0;34m=\u001b[0m \u001b[0;32mNone\u001b[0m\u001b[0;34m\u001b[0m\u001b[0;34m\u001b[0m\u001b[0m\n",
            "\u001b[0;32m/usr/local/lib/python3.12/dist-packages/torch/nn/modules/conv.py\u001b[0m in \u001b[0;36mforward\u001b[0;34m(self, input)\u001b[0m\n\u001b[1;32m    546\u001b[0m \u001b[0;34m\u001b[0m\u001b[0m\n\u001b[1;32m    547\u001b[0m     \u001b[0;32mdef\u001b[0m \u001b[0mforward\u001b[0m\u001b[0;34m(\u001b[0m\u001b[0mself\u001b[0m\u001b[0;34m,\u001b[0m \u001b[0minput\u001b[0m\u001b[0;34m:\u001b[0m \u001b[0mTensor\u001b[0m\u001b[0;34m)\u001b[0m \u001b[0;34m->\u001b[0m \u001b[0mTensor\u001b[0m\u001b[0;34m:\u001b[0m\u001b[0;34m\u001b[0m\u001b[0;34m\u001b[0m\u001b[0m\n\u001b[0;32m--> 548\u001b[0;31m         \u001b[0;32mreturn\u001b[0m \u001b[0mself\u001b[0m\u001b[0;34m.\u001b[0m\u001b[0m_conv_forward\u001b[0m\u001b[0;34m(\u001b[0m\u001b[0minput\u001b[0m\u001b[0;34m,\u001b[0m \u001b[0mself\u001b[0m\u001b[0;34m.\u001b[0m\u001b[0mweight\u001b[0m\u001b[0;34m,\u001b[0m \u001b[0mself\u001b[0m\u001b[0;34m.\u001b[0m\u001b[0mbias\u001b[0m\u001b[0;34m)\u001b[0m\u001b[0;34m\u001b[0m\u001b[0;34m\u001b[0m\u001b[0m\n\u001b[0m\u001b[1;32m    549\u001b[0m \u001b[0;34m\u001b[0m\u001b[0m\n\u001b[1;32m    550\u001b[0m \u001b[0;34m\u001b[0m\u001b[0m\n",
            "\u001b[0;32m/usr/local/lib/python3.12/dist-packages/torch/nn/modules/conv.py\u001b[0m in \u001b[0;36m_conv_forward\u001b[0;34m(self, input, weight, bias)\u001b[0m\n\u001b[1;32m    541\u001b[0m                 \u001b[0mself\u001b[0m\u001b[0;34m.\u001b[0m\u001b[0mgroups\u001b[0m\u001b[0;34m,\u001b[0m\u001b[0;34m\u001b[0m\u001b[0;34m\u001b[0m\u001b[0m\n\u001b[1;32m    542\u001b[0m             )\n\u001b[0;32m--> 543\u001b[0;31m         return F.conv2d(\n\u001b[0m\u001b[1;32m    544\u001b[0m             \u001b[0minput\u001b[0m\u001b[0;34m,\u001b[0m \u001b[0mweight\u001b[0m\u001b[0;34m,\u001b[0m \u001b[0mbias\u001b[0m\u001b[0;34m,\u001b[0m \u001b[0mself\u001b[0m\u001b[0;34m.\u001b[0m\u001b[0mstride\u001b[0m\u001b[0;34m,\u001b[0m \u001b[0mself\u001b[0m\u001b[0;34m.\u001b[0m\u001b[0mpadding\u001b[0m\u001b[0;34m,\u001b[0m \u001b[0mself\u001b[0m\u001b[0;34m.\u001b[0m\u001b[0mdilation\u001b[0m\u001b[0;34m,\u001b[0m \u001b[0mself\u001b[0m\u001b[0;34m.\u001b[0m\u001b[0mgroups\u001b[0m\u001b[0;34m\u001b[0m\u001b[0;34m\u001b[0m\u001b[0m\n\u001b[1;32m    545\u001b[0m         )\n",
            "\u001b[0;31mKeyboardInterrupt\u001b[0m: "
          ]
        }
      ]
    },
    {
      "cell_type": "code",
      "source": [
        "s = 0\n",
        "for x_test, y_test in test_data:\n",
        "    model.eval()\n",
        "    x_test = x_test.to(device)\n",
        "    y_test = y_test.to(device)\n",
        "    pr = torch.argmax(model(x_test), dim = 1)\n",
        "    y = torch.argmax(y_test, dim = 1)\n",
        "    s+=torch.sum(pr == y).item()\n",
        "print(s/len(d_test))"
      ],
      "metadata": {
        "colab": {
          "base_uri": "https://localhost:8080/"
        },
        "id": "08y5RaTnrEa_",
        "outputId": "b4dfc13b-713e-4de5-8e5f-80c481fa6c56"
      },
      "execution_count": 453,
      "outputs": [
        {
          "output_type": "stream",
          "name": "stdout",
          "text": [
            "0.6\n"
          ]
        }
      ]
    },
    {
      "cell_type": "code",
      "source": [
        "def beauty_output(file_name:str):\n",
        "  cats = [\"anny\", \"armin\", \"eren\", \"galyart\", \"levi\", \"mikasa\", \"peak\"]\n",
        "  model.eval()\n",
        "  img_test = Image.open(file_name)\n",
        "  img_tfs = transforms(img_test).unsqueeze(0).to(device)\n",
        "  with torch.no_grad():\n",
        "    probas = torch.softmax(model(img_tfs), dim = 1)\n",
        "    ans = torch.argmax(model(img_tfs), dim = 1).item()\n",
        "    proba = probas[0][ans].item()\n",
        "  print(\"Ваш результат:\")\n",
        "  print(\"__\"*40)\n",
        "  print(f\"Наиболее вероятный персонаж : {cats[ans]}!\")\n",
        "  print(f\"Уверенность модельки в выборе : {proba}!\")\n",
        "  print(\"Другие возможные классы:\")\n",
        "  lst_tst = []\n",
        "  for i, prob in enumerate(probas[0]):\n",
        "    lst_tst.append([cats[i], prob])\n",
        "  lst_tst.sort(key = lambda x: x[1], reverse = True)\n",
        "  for el in lst_tst:\n",
        "    print(f\"{el[0]}:{el[1]:.2%}\")\n",
        "  return"
      ],
      "metadata": {
        "id": "jMOa-3D9ZIuo"
      },
      "execution_count": 436,
      "outputs": []
    },
    {
      "cell_type": "code",
      "source": [
        "beauty_output('girl.jpg')"
      ],
      "metadata": {
        "colab": {
          "base_uri": "https://localhost:8080/"
        },
        "id": "dhF9tyNBcShH",
        "outputId": "37462133-6091-4c1f-df16-1d30b360871f"
      },
      "execution_count": 437,
      "outputs": [
        {
          "output_type": "stream",
          "name": "stdout",
          "text": [
            "Ваш результат:\n",
            "________________________________________________________________________________\n",
            "Наиболее вероятный персонаж : armin!\n",
            "Уверенность модельки в выборе : 0.5966334342956543!\n",
            "Другие возможные классы:\n",
            "armin:59.66%\n",
            "peak:25.50%\n",
            "mikasa:12.19%\n",
            "eren:1.73%\n",
            "anny:0.82%\n",
            "levi:0.05%\n",
            "galyart:0.05%\n"
          ]
        }
      ]
    },
    {
      "cell_type": "code",
      "source": [
        "data_st_d = {\n",
        "    \"loss\":loss_func.state_dict(),\n",
        "    \"opt\":optimizer.state_dict(),\n",
        "    \"model\":model.state_dict()\n",
        "}"
      ],
      "metadata": {
        "id": "oL_6XvhvcmqD"
      },
      "execution_count": 438,
      "outputs": []
    },
    {
      "cell_type": "code",
      "source": [
        "torch.save(data_st_d, \"aot_state_dict_fff.tar\")"
      ],
      "metadata": {
        "id": "2617gkqQRIAq"
      },
      "execution_count": 439,
      "outputs": []
    },
    {
      "cell_type": "code",
      "source": [
        "t = torch.load(\"aot_state_dict_fff.tar\")"
      ],
      "metadata": {
        "id": "LQv0wco6hlUh"
      },
      "execution_count": 451,
      "outputs": []
    },
    {
      "cell_type": "code",
      "source": [
        "model.load_state_dict(t['model'])"
      ],
      "metadata": {
        "colab": {
          "base_uri": "https://localhost:8080/"
        },
        "id": "iIhDko_5mc_W",
        "outputId": "c077839f-2ae0-43f9-c4e5-2b2690dbb823"
      },
      "execution_count": 448,
      "outputs": [
        {
          "output_type": "execute_result",
          "data": {
            "text/plain": [
              "<All keys matched successfully>"
            ]
          },
          "metadata": {},
          "execution_count": 448
        }
      ]
    },
    {
      "cell_type": "code",
      "source": [],
      "metadata": {
        "id": "U12Ysd85hfdi"
      },
      "execution_count": null,
      "outputs": []
    }
  ]
}