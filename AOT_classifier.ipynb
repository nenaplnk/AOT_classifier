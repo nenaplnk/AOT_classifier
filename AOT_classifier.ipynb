{
  "nbformat": 4,
  "nbformat_minor": 0,
  "metadata": {
    "colab": {
      "provenance": [],
      "gpuType": "A100",
      "authorship_tag": "ABX9TyMmQFbJgY5SoVY58e614+Dq",
      "include_colab_link": true
    },
    "kernelspec": {
      "name": "python3",
      "display_name": "Python 3"
    },
    "language_info": {
      "name": "python"
    },
    "accelerator": "GPU"
  },
  "cells": [
    {
      "cell_type": "markdown",
      "metadata": {
        "id": "view-in-github",
        "colab_type": "text"
      },
      "source": [
        "<a href=\"https://colab.research.google.com/github/nenaplnk/AOT_classifier/blob/main/AOT_classifier.ipynb\" target=\"_parent\"><img src=\"https://colab.research.google.com/assets/colab-badge.svg\" alt=\"Open In Colab\"/></a>"
      ]
    },
    {
      "cell_type": "code",
      "source": [
        "# распаковка rar\n",
        "import os\n",
        "\n",
        "files = [f for f in os.listdir('.') if f.endswith('.rar')]\n",
        "if files:\n",
        "    !apt-get install -y unrar\n",
        "    for file in files:\n",
        "        !unrar x \"{file}\" \"/content/extracted/\"\n",
        "        print(f\"Распакован: {file}\")\n",
        "else:\n",
        "    print(\"RAR файлы не найдены\")"
      ],
      "metadata": {
        "id": "O4h21QhpmDZv"
      },
      "execution_count": null,
      "outputs": []
    },
    {
      "cell_type": "code",
      "source": [
        "#импорт библиотек остальных....\n",
        "import json\n",
        "import torch\n",
        "import torch.utils.data as data\n",
        "from torchvision import models\n",
        "import torchvision.transforms.v2 as tfs\n",
        "import torch.nn as nn\n",
        "import torch.optim as optim\n",
        "import numpy as np\n",
        "from PIL import Image\n",
        "from torch.utils.data import ConcatDataset\n"
      ],
      "metadata": {
        "id": "8hHDklo0PDsd"
      },
      "execution_count": 447,
      "outputs": []
    },
    {
      "cell_type": "code",
      "source": [
        "device = \"cuda:0\" if torch.cuda.is_available() else \"cpu\""
      ],
      "metadata": {
        "id": "LRu_AVOJZqxA"
      },
      "execution_count": 3,
      "outputs": []
    },
    {
      "cell_type": "code",
      "source": [
        "#свой датасет из распакованной rar\n",
        "class AotDataset(data.Dataset):\n",
        "    def __init__(self, path, train=True, transform=None):\n",
        "        self.path = os.path.join(path, \"train\" if train else \"test\")\n",
        "        self.transform = transform\n",
        "\n",
        "        with open(os.path.join(self.path, \"format.json\"), \"r\") as fp:\n",
        "            self.format = json.load(fp)\n",
        "\n",
        "        self.length = 0\n",
        "        self.files = []\n",
        "        self.targets = torch.eye(7)\n",
        "\n",
        "        for _dir, _target in self.format.items():\n",
        "            path = os.path.join(self.path, _dir)\n",
        "            list_files = os.listdir(path)\n",
        "            self.length += len(list_files)\n",
        "            self.files.extend(map(lambda _x: (os.path.join(path, _x), _target), list_files))\n",
        "\n",
        "    def __getitem__(self, item):\n",
        "        path_file, target = self.files[item]\n",
        "        t = self.targets[target]\n",
        "        img = Image.open(path_file)\n",
        "\n",
        "        if self.transform:\n",
        "            img = self.transform(img)\n",
        "        return img, t\n",
        "\n",
        "    def __len__(self):\n",
        "        return self.length\n",
        "w = models.ResNet18_Weights.DEFAULT # реснет(веса)\n",
        "transforms = w.transforms() # реснет(tfs)"
      ],
      "metadata": {
        "id": "qA1B95ZMP3ZD"
      },
      "execution_count": 442,
      "outputs": []
    },
    {
      "cell_type": "code",
      "source": [
        "model = models.resnet18(weights = w).to(device) #выбор маленькой модели реснет\n",
        "model.requires_grad_(False) #замораживаем веса всей модели\n",
        "model.fc = nn.Linear(512, 7).to(device) #модифицируем fc слой под количество классов перекладываем на gpu\n",
        "model.fc.requires_grad_(True) #отмораживаем fc веса\n",
        "model.layer4.requires_grad_(True).to(device) #разморозка последнего сверточного слоя и перекладка на gpu"
      ],
      "metadata": {
        "id": "lk7YN28Fl8s0"
      },
      "execution_count": null,
      "outputs": []
    },
    {
      "cell_type": "code",
      "source": [
        "#создание 2 объектов нашего класса Dataset для треина и теста\n",
        "d_train = AotDataset(r\"extracted/imgs_titans\", transform = transforms)\n",
        "d_test = AotDataset(r\"extracted/imgs_titans\", train=False, transform=transforms)\n",
        "aug = tfs.Compose(\n",
        "    [\n",
        "        tfs.RandomRotation(degrees=15),\n",
        "        transforms\n",
        "    ]\n",
        ")\n",
        "d_train_aug = AotDataset(r\"extracted/imgs_titans\", transform = aug)\n",
        "d_train_vmeste = ConcatDataset([d_train, d_train_aug])\n",
        "d_train_train, d_train_valid =  data.random_split(d_train_vmeste, [0.7, 0.3])\n",
        "#создания 2 даталоудеров для треина и теста\n",
        "train_data = data.DataLoader(d_train_train, batch_size = 10, shuffle = True)\n",
        "valid_data = data.DataLoader(d_train_valid, batch_size = 4, shuffle = True)\n",
        "test_data = data.DataLoader(d_test, batch_size=3, shuffle=False)"
      ],
      "metadata": {
        "id": "qc8uTWk6TQq-"
      },
      "execution_count": 444,
      "outputs": []
    },
    {
      "cell_type": "code",
      "source": [
        "#оптимизатор\n",
        "optimizer = optim.Adam([\n",
        "    {'params': model.fc.parameters(), 'lr': 0.001},\n",
        "    {'params': model.layer4.parameters(), 'lr': 0.000001}\n",
        "], weight_decay=0.001)\n",
        "loss_func = nn.CrossEntropyLoss()"
      ],
      "metadata": {
        "id": "GwSPCxuNYnA3"
      },
      "execution_count": 445,
      "outputs": []
    },
    {
      "cell_type": "code",
      "source": [
        "for epoch in range(55):\n",
        "  epoch_loss = 0\n",
        "  count = 0\n",
        "  epoch_loss2 = 0\n",
        "  count2 = 0\n",
        "  for x_train, y_train in train_data:\n",
        "    model.train()\n",
        "    x_train = x_train.to(device)\n",
        "    y_train = y_train.to(device)\n",
        "    predict = model(x_train)\n",
        "    L = loss_func(predict, y_train)\n",
        "    optimizer.zero_grad()\n",
        "    L.backward()\n",
        "    optimizer.step()\n",
        "    epoch_loss += L.item()\n",
        "    count += 1\n",
        "  for x_valid, y_valid in valid_data:\n",
        "    model.eval()\n",
        "    x_valid = x_valid.to(device)\n",
        "    y_valid = y_valid.to(device)\n",
        "    pr = (model(x_valid))\n",
        "    L = loss_func(pr, y_valid)\n",
        "    epoch_loss2 += L.item()\n",
        "    count2 += 1\n",
        "  print(f\"epoch = {epoch} , L_mean_train = {epoch_loss/count}, L_mean_valid = {epoch_loss2/count2}\")"
      ],
      "metadata": {
        "id": "WCzaQvhqmWKO"
      },
      "execution_count": null,
      "outputs": []
    },
    {
      "cell_type": "code",
      "source": [
        "s = 0\n",
        "for x_test, y_test in test_data:\n",
        "    model.eval()\n",
        "    x_test = x_test.to(device)\n",
        "    y_test = y_test.to(device)\n",
        "    pr = torch.argmax(model(x_test), dim = 1)\n",
        "    y = torch.argmax(y_test, dim = 1)\n",
        "    s+=torch.sum(pr == y).item()\n",
        "print(s/len(d_test))"
      ],
      "metadata": {
        "colab": {
          "base_uri": "https://localhost:8080/"
        },
        "id": "08y5RaTnrEa_",
        "outputId": "b4dfc13b-713e-4de5-8e5f-80c481fa6c56"
      },
      "execution_count": 453,
      "outputs": [
        {
          "output_type": "stream",
          "name": "stdout",
          "text": [
            "0.6\n"
          ]
        }
      ]
    },
    {
      "cell_type": "code",
      "source": [
        "def beauty_output(file_name:str):\n",
        "  cats = [\"anny\", \"armin\", \"eren\", \"galyart\", \"levi\", \"mikasa\", \"peak\"]\n",
        "  model.eval()\n",
        "  img_test = Image.open(file_name)\n",
        "  img_tfs = transforms(img_test).unsqueeze(0).to(device)\n",
        "  with torch.no_grad():\n",
        "    probas = torch.softmax(model(img_tfs), dim = 1)\n",
        "    ans = torch.argmax(model(img_tfs), dim = 1).item()\n",
        "    proba = probas[0][ans].item()\n",
        "  print(\"Ваш результат:\")\n",
        "  print(\"__\"*40)\n",
        "  print(f\"Наиболее вероятный персонаж : {cats[ans]}!\")\n",
        "  print(f\"Уверенность модельки в выборе : {proba}!\")\n",
        "  print(\"Другие возможные классы:\")\n",
        "  lst_tst = []\n",
        "  for i, prob in enumerate(probas[0]):\n",
        "    lst_tst.append([cats[i], prob])\n",
        "  lst_tst.sort(key = lambda x: x[1], reverse = True)\n",
        "  for el in lst_tst:\n",
        "    print(f\"{el[0]}:{el[1]:.2%}\")\n",
        "  return"
      ],
      "metadata": {
        "id": "jMOa-3D9ZIuo"
      },
      "execution_count": 436,
      "outputs": []
    },
    {
      "cell_type": "code",
      "source": [
        "beauty_output('твоя фотка')"
      ],
      "metadata": {
        "id": "z3hhJIvXlvry"
      },
      "execution_count": null,
      "outputs": []
    },
    {
      "cell_type": "code",
      "source": [
        "#пример реза"
      ],
      "metadata": {
        "colab": {
          "base_uri": "https://localhost:8080/"
        },
        "id": "dhF9tyNBcShH",
        "outputId": "37462133-6091-4c1f-df16-1d30b360871f"
      },
      "execution_count": 437,
      "outputs": [
        {
          "output_type": "stream",
          "name": "stdout",
          "text": [
            "Ваш результат:\n",
            "________________________________________________________________________________\n",
            "Наиболее вероятный персонаж : armin!\n",
            "Уверенность модельки в выборе : 0.5966334342956543!\n",
            "Другие возможные классы:\n",
            "armin:59.66%\n",
            "peak:25.50%\n",
            "mikasa:12.19%\n",
            "eren:1.73%\n",
            "anny:0.82%\n",
            "levi:0.05%\n",
            "galyart:0.05%\n"
          ]
        }
      ]
    },
    {
      "cell_type": "code",
      "source": [
        "data_st_d = {\n",
        "    \"loss\":loss_func.state_dict(),\n",
        "    \"opt\":optimizer.state_dict(),\n",
        "    \"model\":model.state_dict()\n",
        "}"
      ],
      "metadata": {
        "id": "oL_6XvhvcmqD"
      },
      "execution_count": 438,
      "outputs": []
    },
    {
      "cell_type": "code",
      "source": [
        "torch.save(data_st_d, \"aot_state_dict_fff.tar\")"
      ],
      "metadata": {
        "id": "2617gkqQRIAq"
      },
      "execution_count": 439,
      "outputs": []
    },
    {
      "cell_type": "code",
      "source": [
        "t = torch.load(\"aot_state_dict_fff.tar\")"
      ],
      "metadata": {
        "id": "LQv0wco6hlUh"
      },
      "execution_count": 451,
      "outputs": []
    },
    {
      "cell_type": "code",
      "source": [
        "model.load_state_dict(t['model'])"
      ],
      "metadata": {
        "colab": {
          "base_uri": "https://localhost:8080/"
        },
        "id": "iIhDko_5mc_W",
        "outputId": "c077839f-2ae0-43f9-c4e5-2b2690dbb823"
      },
      "execution_count": 448,
      "outputs": [
        {
          "output_type": "execute_result",
          "data": {
            "text/plain": [
              "<All keys matched successfully>"
            ]
          },
          "metadata": {},
          "execution_count": 448
        }
      ]
    },
    {
      "cell_type": "code",
      "source": [],
      "metadata": {
        "id": "U12Ysd85hfdi"
      },
      "execution_count": null,
      "outputs": []
    }
  ]
}